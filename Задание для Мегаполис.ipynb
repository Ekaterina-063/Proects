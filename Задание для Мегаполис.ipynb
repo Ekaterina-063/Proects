{
  "nbformat": 4,
  "nbformat_minor": 0,
  "metadata": {
    "colab": {
      "provenance": [],
      "authorship_tag": "ABX9TyMHoFUIvmsrw5QT1cFUyN2i",
      "include_colab_link": true
    },
    "kernelspec": {
      "name": "python3",
      "display_name": "Python 3"
    },
    "language_info": {
      "name": "python"
    }
  },
  "cells": [
    {
      "cell_type": "markdown",
      "metadata": {
        "id": "view-in-github",
        "colab_type": "text"
      },
      "source": [
        "<a href=\"https://colab.research.google.com/github/Ekaterina-063/Proects/blob/main/%D0%97%D0%B0%D0%B4%D0%B0%D0%BD%D0%B8%D0%B5%20%D0%B4%D0%BB%D1%8F%20%D0%9C%D0%B5%D0%B3%D0%B0%D0%BF%D0%BE%D0%BB%D0%B8%D1%81.ipynb\" target=\"_parent\"><img src=\"https://colab.research.google.com/assets/colab-badge.svg\" alt=\"Open In Colab\"/></a>"
      ]
    },
    {
      "cell_type": "markdown",
      "source": [
        "Функция, создающая последовательность, начинающуюся с [1, 2] до 10-го элемента,каждый последующий элемент которой представляет собой произведение двух предыдущих цифр последовательности."
      ],
      "metadata": {
        "id": "_hMS5RVeTusE"
      }
    },
    {
      "cell_type": "code",
      "source": [
        "def my_function(max_ln: int = 10):\n",
        "    arr = [1, 2]\n",
        "    max_ln = max_ln - len(arr)\n",
        "    i = 0\n",
        "    while i < max_ln:\n",
        "        elem = arr[ i ] * arr[i + 1]\n",
        "        arr.append(elem)\n",
        "        i += 1\n",
        "    print(arr)"
      ],
      "metadata": {
        "id": "oIwskOV3Pq2W"
      },
      "execution_count": 14,
      "outputs": []
    },
    {
      "cell_type": "code",
      "source": [
        "my_function(10)"
      ],
      "metadata": {
        "colab": {
          "base_uri": "https://localhost:8080/"
        },
        "id": "gRUdLwAVQpqp",
        "outputId": "3e306985-7730-4041-eec3-192e168c9b7b"
      },
      "execution_count": 15,
      "outputs": [
        {
          "output_type": "stream",
          "name": "stdout",
          "text": [
            "[1, 2, 2, 4, 8, 32, 256, 8192, 2097152, 17179869184]\n"
          ]
        }
      ]
    }
  ]
}