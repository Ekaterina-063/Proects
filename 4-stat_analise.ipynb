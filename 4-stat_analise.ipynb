{
 "cells": [
  {
   "cell_type": "code",
   "execution_count": null,
   "metadata": {
    "deletable": false
   },
   "outputs": [],
   "source": [
    "import pandas as pd"
   ]
  },
  {
   "cell_type": "markdown",
   "metadata": {
    "deletable": false,
    "editable": false
   },
   "source": [
    "### Откройте файл с данными и изучите общую информацию"
   ]
  },
  {
   "cell_type": "markdown",
   "metadata": {
    "deletable": false,
    "editable": false,
    "tags": [
     "start_task"
    ]
   },
   "source": [
    "**Задание 1.** Откройте файл `/datasets/calls.csv`, сохраните датафрейм в переменную `calls`."
   ]
  },
  {
   "cell_type": "code",
   "execution_count": null,
   "metadata": {
    "deletable": false
   },
   "outputs": [],
   "source": [
    "calls = pd.read_csv('/datasets/calls.csv')"
   ]
  },
  {
   "cell_type": "markdown",
   "metadata": {
    "deletable": false,
    "editable": false,
    "tags": [
     "start_task"
    ]
   },
   "source": [
    "**Задание 2.** Выведите первые 5 строк датафрейма `calls`."
   ]
  },
  {
   "cell_type": "code",
   "execution_count": null,
   "metadata": {
    "deletable": false
   },
   "outputs": [],
   "source": [
    "calls.head()"
   ]
  },
  {
   "cell_type": "markdown",
   "metadata": {
    "deletable": false,
    "editable": false,
    "tags": [
     "start_task"
    ]
   },
   "source": [
    "**Задание 3.** Выведите основную информацию для датафрейма `calls` с помощью метода `info()`."
   ]
  },
  {
   "cell_type": "code",
   "execution_count": null,
   "metadata": {
    "deletable": false
   },
   "outputs": [],
   "source": [
    "calls.info()"
   ]
  },
  {
   "cell_type": "markdown",
   "metadata": {
    "deletable": false,
    "editable": false,
    "tags": [
     "start_task"
    ]
   },
   "source": [
    "**Задание 4.** С помощью метода `hist()` выведите гистограмму для столбца с продолжительностью звонков. Подумайте о том, как распределены данные."
   ]
  },
  {
   "cell_type": "code",
   "execution_count": null,
   "metadata": {
    "deletable": false
   },
   "outputs": [],
   "source": [
    "calls['duration'].hist()"
   ]
  },
  {
   "cell_type": "markdown",
   "metadata": {
    "deletable": false,
    "editable": false,
    "tags": [
     "start_task"
    ]
   },
   "source": [
    "**Задание 5.** Откройте файл `/datasets/internet.csv`, сохраните датафрейм в переменную `sessions`."
   ]
  },
  {
   "cell_type": "code",
   "execution_count": null,
   "metadata": {
    "deletable": false
   },
   "outputs": [],
   "source": [
    "sessions = pd.read_csv('/datasets/internet.csv')"
   ]
  },
  {
   "cell_type": "markdown",
   "metadata": {
    "deletable": false,
    "editable": false,
    "tags": [
     "start_task"
    ]
   },
   "source": [
    "**Задание 6.** Выведите первые 5 строк датафрейма `sessions`."
   ]
  },
  {
   "cell_type": "code",
   "execution_count": null,
   "metadata": {
    "deletable": false
   },
   "outputs": [],
   "source": [
    "sessions.head()"
   ]
  },
  {
   "cell_type": "markdown",
   "metadata": {
    "deletable": false,
    "editable": false,
    "tags": [
     "start_task"
    ]
   },
   "source": [
    "**Задание 7.** Выведите основную информацию для датафрейма sessions с помощью метода `info()`. "
   ]
  },
  {
   "cell_type": "code",
   "execution_count": null,
   "metadata": {
    "deletable": false
   },
   "outputs": [],
   "source": [
    "sessions.info()"
   ]
  },
  {
   "cell_type": "markdown",
   "metadata": {
    "deletable": false,
    "editable": false,
    "tags": [
     "start_task"
    ]
   },
   "source": [
    "**Задание 8.** С помощью метода `hist()` выведите гистограмму для столбца с количеством потраченных мегабайт."
   ]
  },
  {
   "cell_type": "code",
   "execution_count": null,
   "metadata": {
    "deletable": false
   },
   "outputs": [],
   "source": [
    "sessions['mb_used'].hist()"
   ]
  },
  {
   "cell_type": "markdown",
   "metadata": {
    "deletable": false,
    "editable": false,
    "tags": [
     "start_task"
    ]
   },
   "source": [
    "**Задание 9.** Откройте файл `/datasets/messages.csv`, сохраните датафрейм в переменную `messages`."
   ]
  },
  {
   "cell_type": "code",
   "execution_count": null,
   "metadata": {
    "deletable": false
   },
   "outputs": [],
   "source": [
    "messages= pd.read_csv('/datasets/messages.csv')"
   ]
  },
  {
   "cell_type": "markdown",
   "metadata": {
    "deletable": false,
    "editable": false,
    "tags": [
     "start_task"
    ]
   },
   "source": [
    "**Задание 10.** Выведите первые 5 строк датафрейма `messages`."
   ]
  },
  {
   "cell_type": "code",
   "execution_count": null,
   "metadata": {
    "deletable": false
   },
   "outputs": [],
   "source": [
    "messages.head()"
   ]
  },
  {
   "cell_type": "markdown",
   "metadata": {
    "deletable": false,
    "editable": false,
    "tags": [
     "start_task"
    ]
   },
   "source": [
    "**Задание 11.** Выведите основную информацию для датафрейма `messages` с помощью метода `info()`. "
   ]
  },
  {
   "cell_type": "code",
   "execution_count": null,
   "metadata": {
    "deletable": false
   },
   "outputs": [],
   "source": [
    "messages.info()"
   ]
  },
  {
   "cell_type": "markdown",
   "metadata": {
    "deletable": false,
    "editable": false,
    "tags": [
     "start_task"
    ]
   },
   "source": [
    "**Задание 12.** Откройте файл `/datasets/tariffs.csv`, сохраните датафрейм в переменную `tariffs`."
   ]
  },
  {
   "cell_type": "code",
   "execution_count": null,
   "metadata": {
    "deletable": false
   },
   "outputs": [],
   "source": [
    "tariffs = pd.read_csv('/datasets/tariffs.csv')"
   ]
  },
  {
   "cell_type": "markdown",
   "metadata": {
    "deletable": false,
    "editable": false,
    "tags": [
     "start_task"
    ]
   },
   "source": [
    "**Задание 13.** Выведите весь датафрейм `tariffs`."
   ]
  },
  {
   "cell_type": "code",
   "execution_count": null,
   "metadata": {
    "deletable": false
   },
   "outputs": [],
   "source": [
    "tariffs"
   ]
  },
  {
   "cell_type": "markdown",
   "metadata": {
    "deletable": false,
    "editable": false,
    "tags": [
     "start_task"
    ]
   },
   "source": [
    "**Задание 14.** Выведите основную информацию для датафрейма `tariffs` с помощью метода `info()`."
   ]
  },
  {
   "cell_type": "code",
   "execution_count": null,
   "metadata": {
    "deletable": false
   },
   "outputs": [],
   "source": [
    "tariffs.info()"
   ]
  },
  {
   "cell_type": "markdown",
   "metadata": {
    "deletable": false,
    "editable": false,
    "tags": [
     "start_task"
    ]
   },
   "source": [
    "**Задание 15.** Откройте файл `/datasets/users.csv`, сохраните датафрейм в переменную `users`."
   ]
  },
  {
   "cell_type": "code",
   "execution_count": null,
   "metadata": {
    "deletable": false
   },
   "outputs": [],
   "source": [
    "users = pd.read_csv('/datasets/users.csv')"
   ]
  },
  {
   "cell_type": "markdown",
   "metadata": {
    "deletable": false,
    "editable": false,
    "tags": [
     "start_task"
    ]
   },
   "source": [
    "**Задание 16.** Выведите первые 5 строк датафрейма `users`."
   ]
  },
  {
   "cell_type": "code",
   "execution_count": null,
   "metadata": {
    "deletable": false
   },
   "outputs": [],
   "source": [
    "users.head()"
   ]
  },
  {
   "cell_type": "markdown",
   "metadata": {
    "deletable": false,
    "editable": false,
    "tags": [
     "start_task"
    ]
   },
   "source": [
    "**Задание 17.** Выведите основную информацию для датафрейма `users` с помощью метода `info()`."
   ]
  },
  {
   "cell_type": "code",
   "execution_count": null,
   "metadata": {
    "deletable": false
   },
   "outputs": [],
   "source": [
    "users.info()"
   ]
  },
  {
   "cell_type": "markdown",
   "metadata": {
    "deletable": false,
    "editable": false
   },
   "source": [
    "### Подготовьте данные"
   ]
  },
  {
   "cell_type": "markdown",
   "metadata": {
    "deletable": false,
    "editable": false,
    "tags": [
     "start_task"
    ]
   },
   "source": [
    "**Задание 18.**  Приведите столбцы\n",
    "\n",
    "- `reg_date` из таблицы `users`\n",
    "- `churn_date` из таблицы `users`\n",
    "- `call_date` из таблицы `calls`\n",
    "- `message_date` из таблицы `messages`\n",
    "- `session_date` из таблицы `sessions`\n",
    "\n",
    "к новому типу с помощью метода `to_datetime()`."
   ]
  },
  {
   "cell_type": "code",
   "execution_count": null,
   "metadata": {
    "deletable": false
   },
   "outputs": [],
   "source": [
    "users['reg_date'] = pd.to_datetime(users['reg_date'], format='%Y-%m-%d')# обработка столбца reg_date\n",
    "users['churn_date'] = pd.to_datetime(users['churn_date'], format='%Y-%m-%d')# обработка столбца churn_date\n",
    "calls['call_date'] = pd.to_datetime(calls['call_date'], format='%Y-%m-%d')# обработка столбца call_date\n",
    "messages['message_date'] = pd.to_datetime(messages['message_date'], format='%Y-%m-%d')# обработка столбца message_date\n",
    "sessions['session_date'] = pd.to_datetime(sessions['session_date'], format='%Y-%m-%d')# обработка столбца session_date"
   ]
  },
  {
   "cell_type": "markdown",
   "metadata": {
    "deletable": false,
    "editable": false,
    "tags": [
     "start_task"
    ]
   },
   "source": [
    "**Задание 19.** В данных вы найдёте звонки с нулевой продолжительностью. Это не ошибка: нулями обозначены пропущенные звонки, поэтому их не нужно удалять.\n",
    "\n",
    "Однако в столбце `duration` датафрейма `calls` значения дробные. Округлите значения столбца `duration` вверх с помощью метода `numpy.ceil()` и приведите столбец `duration` к типу `int`."
   ]
  },
  {
   "cell_type": "code",
   "execution_count": null,
   "metadata": {
    "deletable": false
   },
   "outputs": [],
   "source": [
    "import numpy as np\n",
    "calls['duration'] = pd.to_numeric(calls['duration'])\n",
    "calls['duration'] = np.ceil(calls['duration']).astype(int)\n",
    "# округление значений столбца duration с помощью np.ceil() и приведение типа к int"
   ]
  },
  {
   "cell_type": "markdown",
   "metadata": {
    "deletable": false,
    "editable": false,
    "tags": [
     "start_task"
    ]
   },
   "source": [
    "**Задание 20.** Удалите столбец `Unnamed: 0` из датафрейма `sessions`. Столбец с таким названием возникает, когда данные сохраняют с указанием индекса (`df.to_csv(..., index=column)`). Он сейчас не понадобится."
   ]
  },
  {
   "cell_type": "code",
   "execution_count": null,
   "metadata": {
    "deletable": false
   },
   "outputs": [],
   "source": [
    "sessions = sessions.drop(columns = ['Unnamed: 0'])"
   ]
  },
  {
   "cell_type": "markdown",
   "metadata": {
    "deletable": false,
    "editable": false,
    "tags": [
     "start_task"
    ]
   },
   "source": [
    "**Задание 21.** Создайте столбец `month` в датафрейме `calls` с номером месяца из столбца `call_date`."
   ]
  },
  {
   "cell_type": "code",
   "execution_count": null,
   "metadata": {
    "deletable": false
   },
   "outputs": [],
   "source": [
    "calls['month'] = calls['call_date'].dt.month"
   ]
  },
  {
   "cell_type": "markdown",
   "metadata": {
    "deletable": false,
    "editable": false,
    "tags": [
     "start_task"
    ]
   },
   "source": [
    "**Задание 22.** Создайте столбец `month` в датафрейме `messages` с номером месяца из столбца `message_date`."
   ]
  },
  {
   "cell_type": "code",
   "execution_count": null,
   "metadata": {
    "deletable": false
   },
   "outputs": [],
   "source": [
    "messages['month'] = messages['message_date'].dt.month"
   ]
  },
  {
   "cell_type": "markdown",
   "metadata": {
    "deletable": false,
    "editable": false,
    "tags": [
     "start_task"
    ]
   },
   "source": [
    "**Задание 23.** Создайте столбец `month` в датафрейме `sessions` с номером месяца из столбца `session_date`."
   ]
  },
  {
   "cell_type": "code",
   "execution_count": null,
   "metadata": {
    "deletable": false
   },
   "outputs": [],
   "source": [
    "sessions['month'] = sessions['session_date'].dt.month"
   ]
  },
  {
   "cell_type": "markdown",
   "metadata": {
    "deletable": false,
    "editable": false,
    "tags": [
     "start_task"
    ]
   },
   "source": [
    "**Задание 24.** Посчитайте количество сделанных звонков разговора для каждого пользователя по месяцам и сохраните в переменную `calls_per_month`."
   ]
  },
  {
   "cell_type": "code",
   "execution_count": null,
   "metadata": {
    "deletable": false
   },
   "outputs": [],
   "source": [
    "#calls_per_month = calls.groupby(['user_id','month']).agg({'duration':'count'})\n",
    "calls_per_month = calls.groupby(['user_id','month']).agg(calls = ('duration','count'))# подсчёт количества звонков для каждого пользователя по месяцам"
   ]
  },
  {
   "cell_type": "code",
   "execution_count": null,
   "metadata": {
    "deletable": false
   },
   "outputs": [],
   "source": [
    "calls_per_month.head(30)\n",
    "# вывод 30 первых строк на экран"
   ]
  },
  {
   "cell_type": "markdown",
   "metadata": {
    "deletable": false,
    "editable": false,
    "tags": [
     "start_task"
    ]
   },
   "source": [
    "**Задание 25.** Посчитайте количество израсходованных минут разговора для каждого пользователя по месяцам и сохраните в переменную `minutes_per_month`. Вам понадобится\n",
    "\n",
    "- сгруппировать датафрейм с информацией о звонках по двум столбцам — с идентификаторами пользователей и номерами месяцев;\n",
    "- после группировки выбрать столбец `duration`\n",
    "- затем применить метод для подсчёта суммы.\n",
    "\n",
    "Выведите первые 30 строчек `minutes_per_month`."
   ]
  },
  {
   "cell_type": "code",
   "execution_count": null,
   "metadata": {
    "deletable": false
   },
   "outputs": [],
   "source": [
    "minutes_per_month = calls.groupby(['user_id','month']).agg(minutes = ('duration','sum'))# подсчёт израсходованных минут для каждого пользователя по месяцам"
   ]
  },
  {
   "cell_type": "code",
   "execution_count": null,
   "metadata": {
    "deletable": false
   },
   "outputs": [],
   "source": [
    "minutes_per_month.head(30)# вывод первых 30 строк на экран"
   ]
  },
  {
   "cell_type": "markdown",
   "metadata": {
    "deletable": false,
    "editable": false,
    "tags": [
     "start_task"
    ]
   },
   "source": [
    "**Задание 26.** Посчитайте количество отправленных сообщений по месяцам для каждого пользователя и сохраните в переменную `messages_per_month`. Вам понадобится\n",
    "\n",
    "- сгруппировать датафрейм с информацией о сообщениях по двум столбцам — с идентификаторами пользователей и номерами месяцев;\n",
    "- после группировки выбрать столбец `message_date`;\n",
    "- затем применить метод для подсчёта количества.\n",
    "\n",
    "Выведите первые 30 строчек `messages_per_month`."
   ]
  },
  {
   "cell_type": "code",
   "execution_count": null,
   "metadata": {
    "deletable": false
   },
   "outputs": [],
   "source": [
    "messages_per_month = messages.groupby(['user_id','month']).agg(messages = ('message_date','count'))# подсчёт количества отправленных сообщений для каждого пользователя по месяцам"
   ]
  },
  {
   "cell_type": "code",
   "execution_count": null,
   "metadata": {
    "deletable": false
   },
   "outputs": [],
   "source": [
    "messages_per_month.head(30)# вывод первых 30 строк на экран"
   ]
  },
  {
   "cell_type": "markdown",
   "metadata": {
    "deletable": false,
    "editable": false,
    "tags": [
     "start_task"
    ]
   },
   "source": [
    "**Задание 27.** Посчитайте количество потраченных мегабайт по месяцам для каждого пользователя и сохраните в переменную `sessions_per_month`. Вам понадобится\n",
    "\n",
    "- сгруппировать датафрейм с информацией о сообщениях по двум столбцам — с идентификаторами пользователей и номерами месяцев;\n",
    "- затем применить метод для подсчёта суммы: `.agg({'mb_used': 'sum'})`"
   ]
  },
  {
   "cell_type": "code",
   "execution_count": null,
   "metadata": {
    "deletable": false
   },
   "outputs": [],
   "source": [
    "sessions_per_month = sessions.groupby(['user_id','month']).agg({'mb_used': 'sum'})# подсчёт потраченных мегабайт для каждого пользователя по месяцам"
   ]
  },
  {
   "cell_type": "code",
   "execution_count": null,
   "metadata": {
    "deletable": false
   },
   "outputs": [],
   "source": [
    "sessions_per_month.head(30)\n",
    "# вывод первых 30 строк на экран\n"
   ]
  },
  {
   "cell_type": "markdown",
   "metadata": {
    "deletable": false,
    "editable": false
   },
   "source": [
    "### Анализ данных и подсчёт выручки"
   ]
  },
  {
   "cell_type": "markdown",
   "metadata": {
    "deletable": false,
    "editable": false
   },
   "source": [
    "Объединяем все посчитанные выше значения в один датафрейм `user_behavior`.\n",
    "Для каждой пары \"пользователь - месяц\" будут доступны информация о тарифе, количестве звонков, сообщений и потраченных мегабайтах."
   ]
  },
  {
   "cell_type": "code",
   "execution_count": null,
   "metadata": {
    "deletable": false
   },
   "outputs": [],
   "source": [
    "users['churn_date'].count() / users['churn_date'].shape[0] * 100"
   ]
  },
  {
   "cell_type": "markdown",
   "metadata": {
    "deletable": false,
    "editable": false
   },
   "source": [
    "Расторгли договор 7.6% клиентов из датасета"
   ]
  },
  {
   "cell_type": "code",
   "execution_count": null,
   "metadata": {
    "deletable": false
   },
   "outputs": [],
   "source": [
    "user_behavior = calls_per_month\\\n",
    "    .merge(messages_per_month, left_index=True, right_index=True, how='outer')\\\n",
    "    .merge(sessions_per_month, left_index=True, right_index=True, how='outer')\\\n",
    "    .merge(minutes_per_month, left_index=True, right_index=True, how='outer')\\\n",
    "    .reset_index()\\\n",
    "    .merge(users, how='left', left_on='user_id', right_on='user_id')\\\n",
    "\n",
    "user_behavior.head()"
   ]
  },
  {
   "cell_type": "markdown",
   "metadata": {
    "deletable": false,
    "editable": false
   },
   "source": [
    "Проверим пропуски в таблице `user_behavior` после объединения:"
   ]
  },
  {
   "cell_type": "code",
   "execution_count": null,
   "metadata": {
    "deletable": false
   },
   "outputs": [],
   "source": [
    "user_behavior.isna().sum()"
   ]
  },
  {
   "cell_type": "markdown",
   "metadata": {
    "deletable": false,
    "editable": false
   },
   "source": [
    "Заполним образовавшиеся пропуски в данных:"
   ]
  },
  {
   "cell_type": "code",
   "execution_count": 54,
   "metadata": {
    "deletable": false
   },
   "outputs": [],
   "source": [
    "user_behavior['calls'] = user_behavior['calls'].fillna(0)\n",
    "user_behavior['minutes'] = user_behavior['minutes'].fillna(0)\n",
    "user_behavior['messages'] = user_behavior['messages'].fillna(0)\n",
    "user_behavior['mb_used'] = user_behavior['mb_used'].fillna(0)"
   ]
  },
  {
   "cell_type": "markdown",
   "metadata": {
    "deletable": false,
    "editable": false
   },
   "source": [
    "Присоединяем информацию о тарифах"
   ]
  },
  {
   "cell_type": "code",
   "execution_count": 55,
   "metadata": {
    "deletable": false
   },
   "outputs": [],
   "source": [
    "# переименование столбца tariff_name на более простое tariff\n",
    "\n",
    "tariffs = tariffs.rename(\n",
    "    columns={\n",
    "        'tariff_name': 'tariff'\n",
    "    }\n",
    ")"
   ]
  },
  {
   "cell_type": "code",
   "execution_count": 56,
   "metadata": {
    "deletable": false
   },
   "outputs": [],
   "source": [
    "user_behavior = user_behavior.merge(tariffs, on='tariff')"
   ]
  },
  {
   "cell_type": "markdown",
   "metadata": {
    "deletable": false,
    "editable": false
   },
   "source": [
    "Считаем количество минут разговора, сообщений и мегабайт, превышающих включенные в тариф\n"
   ]
  },
  {
   "cell_type": "code",
   "execution_count": 57,
   "metadata": {
    "deletable": false
   },
   "outputs": [
    {
     "ename": "KeyError",
     "evalue": "'minutes_included'",
     "output_type": "error",
     "traceback": [
      "\u001b[0;31m---------------------------------------------------------------------------\u001b[0m",
      "\u001b[0;31mKeyError\u001b[0m                                  Traceback (most recent call last)",
      "\u001b[0;32m/opt/conda/lib/python3.9/site-packages/pandas/core/indexes/base.py\u001b[0m in \u001b[0;36mget_loc\u001b[0;34m(self, key, method, tolerance)\u001b[0m\n\u001b[1;32m   3079\u001b[0m             \u001b[0;32mtry\u001b[0m\u001b[0;34m:\u001b[0m\u001b[0;34m\u001b[0m\u001b[0;34m\u001b[0m\u001b[0m\n\u001b[0;32m-> 3080\u001b[0;31m                 \u001b[0;32mreturn\u001b[0m \u001b[0mself\u001b[0m\u001b[0;34m.\u001b[0m\u001b[0m_engine\u001b[0m\u001b[0;34m.\u001b[0m\u001b[0mget_loc\u001b[0m\u001b[0;34m(\u001b[0m\u001b[0mcasted_key\u001b[0m\u001b[0;34m)\u001b[0m\u001b[0;34m\u001b[0m\u001b[0;34m\u001b[0m\u001b[0m\n\u001b[0m\u001b[1;32m   3081\u001b[0m             \u001b[0;32mexcept\u001b[0m \u001b[0mKeyError\u001b[0m \u001b[0;32mas\u001b[0m \u001b[0merr\u001b[0m\u001b[0;34m:\u001b[0m\u001b[0;34m\u001b[0m\u001b[0;34m\u001b[0m\u001b[0m\n",
      "\u001b[0;32mpandas/_libs/index.pyx\u001b[0m in \u001b[0;36mpandas._libs.index.IndexEngine.get_loc\u001b[0;34m()\u001b[0m\n",
      "\u001b[0;32mpandas/_libs/index.pyx\u001b[0m in \u001b[0;36mpandas._libs.index.IndexEngine.get_loc\u001b[0;34m()\u001b[0m\n",
      "\u001b[0;32mpandas/_libs/hashtable_class_helper.pxi\u001b[0m in \u001b[0;36mpandas._libs.hashtable.PyObjectHashTable.get_item\u001b[0;34m()\u001b[0m\n",
      "\u001b[0;32mpandas/_libs/hashtable_class_helper.pxi\u001b[0m in \u001b[0;36mpandas._libs.hashtable.PyObjectHashTable.get_item\u001b[0;34m()\u001b[0m\n",
      "\u001b[0;31mKeyError\u001b[0m: 'minutes_included'",
      "\nThe above exception was the direct cause of the following exception:\n",
      "\u001b[0;31mKeyError\u001b[0m                                  Traceback (most recent call last)",
      "\u001b[0;32m/tmp/ipykernel_64/2880982946.py\u001b[0m in \u001b[0;36m<module>\u001b[0;34m\u001b[0m\n\u001b[0;32m----> 1\u001b[0;31m \u001b[0muser_behavior\u001b[0m\u001b[0;34m[\u001b[0m\u001b[0;34m'paid_minutes'\u001b[0m\u001b[0;34m]\u001b[0m \u001b[0;34m=\u001b[0m \u001b[0muser_behavior\u001b[0m\u001b[0;34m[\u001b[0m\u001b[0;34m'minutes'\u001b[0m\u001b[0;34m]\u001b[0m \u001b[0;34m-\u001b[0m \u001b[0muser_behavior\u001b[0m\u001b[0;34m[\u001b[0m\u001b[0;34m'minutes_included'\u001b[0m\u001b[0;34m]\u001b[0m\u001b[0;34m\u001b[0m\u001b[0;34m\u001b[0m\u001b[0m\n\u001b[0m\u001b[1;32m      2\u001b[0m \u001b[0muser_behavior\u001b[0m\u001b[0;34m[\u001b[0m\u001b[0;34m'paid_messages'\u001b[0m\u001b[0;34m]\u001b[0m \u001b[0;34m=\u001b[0m \u001b[0muser_behavior\u001b[0m\u001b[0;34m[\u001b[0m\u001b[0;34m'messages'\u001b[0m\u001b[0;34m]\u001b[0m \u001b[0;34m-\u001b[0m \u001b[0muser_behavior\u001b[0m\u001b[0;34m[\u001b[0m\u001b[0;34m'messages_included'\u001b[0m\u001b[0;34m]\u001b[0m\u001b[0;34m\u001b[0m\u001b[0;34m\u001b[0m\u001b[0m\n\u001b[1;32m      3\u001b[0m \u001b[0muser_behavior\u001b[0m\u001b[0;34m[\u001b[0m\u001b[0;34m'paid_mb'\u001b[0m\u001b[0;34m]\u001b[0m \u001b[0;34m=\u001b[0m \u001b[0muser_behavior\u001b[0m\u001b[0;34m[\u001b[0m\u001b[0;34m'mb_used'\u001b[0m\u001b[0;34m]\u001b[0m \u001b[0;34m-\u001b[0m \u001b[0muser_behavior\u001b[0m\u001b[0;34m[\u001b[0m\u001b[0;34m'mb_per_month_included'\u001b[0m\u001b[0;34m]\u001b[0m\u001b[0;34m\u001b[0m\u001b[0;34m\u001b[0m\u001b[0m\n\u001b[1;32m      4\u001b[0m \u001b[0;34m\u001b[0m\u001b[0m\n\u001b[1;32m      5\u001b[0m \u001b[0;32mfor\u001b[0m \u001b[0mcol\u001b[0m \u001b[0;32min\u001b[0m \u001b[0;34m[\u001b[0m\u001b[0;34m'paid_messages'\u001b[0m\u001b[0;34m,\u001b[0m \u001b[0;34m'paid_minutes'\u001b[0m\u001b[0;34m,\u001b[0m \u001b[0;34m'paid_mb'\u001b[0m\u001b[0;34m]\u001b[0m\u001b[0;34m:\u001b[0m\u001b[0;34m\u001b[0m\u001b[0;34m\u001b[0m\u001b[0m\n",
      "\u001b[0;32m/opt/conda/lib/python3.9/site-packages/pandas/core/frame.py\u001b[0m in \u001b[0;36m__getitem__\u001b[0;34m(self, key)\u001b[0m\n\u001b[1;32m   3022\u001b[0m             \u001b[0;32mif\u001b[0m \u001b[0mself\u001b[0m\u001b[0;34m.\u001b[0m\u001b[0mcolumns\u001b[0m\u001b[0;34m.\u001b[0m\u001b[0mnlevels\u001b[0m \u001b[0;34m>\u001b[0m \u001b[0;36m1\u001b[0m\u001b[0;34m:\u001b[0m\u001b[0;34m\u001b[0m\u001b[0;34m\u001b[0m\u001b[0m\n\u001b[1;32m   3023\u001b[0m                 \u001b[0;32mreturn\u001b[0m \u001b[0mself\u001b[0m\u001b[0;34m.\u001b[0m\u001b[0m_getitem_multilevel\u001b[0m\u001b[0;34m(\u001b[0m\u001b[0mkey\u001b[0m\u001b[0;34m)\u001b[0m\u001b[0;34m\u001b[0m\u001b[0;34m\u001b[0m\u001b[0m\n\u001b[0;32m-> 3024\u001b[0;31m             \u001b[0mindexer\u001b[0m \u001b[0;34m=\u001b[0m \u001b[0mself\u001b[0m\u001b[0;34m.\u001b[0m\u001b[0mcolumns\u001b[0m\u001b[0;34m.\u001b[0m\u001b[0mget_loc\u001b[0m\u001b[0;34m(\u001b[0m\u001b[0mkey\u001b[0m\u001b[0;34m)\u001b[0m\u001b[0;34m\u001b[0m\u001b[0;34m\u001b[0m\u001b[0m\n\u001b[0m\u001b[1;32m   3025\u001b[0m             \u001b[0;32mif\u001b[0m \u001b[0mis_integer\u001b[0m\u001b[0;34m(\u001b[0m\u001b[0mindexer\u001b[0m\u001b[0;34m)\u001b[0m\u001b[0;34m:\u001b[0m\u001b[0;34m\u001b[0m\u001b[0;34m\u001b[0m\u001b[0m\n\u001b[1;32m   3026\u001b[0m                 \u001b[0mindexer\u001b[0m \u001b[0;34m=\u001b[0m \u001b[0;34m[\u001b[0m\u001b[0mindexer\u001b[0m\u001b[0;34m]\u001b[0m\u001b[0;34m\u001b[0m\u001b[0;34m\u001b[0m\u001b[0m\n",
      "\u001b[0;32m/opt/conda/lib/python3.9/site-packages/pandas/core/indexes/base.py\u001b[0m in \u001b[0;36mget_loc\u001b[0;34m(self, key, method, tolerance)\u001b[0m\n\u001b[1;32m   3080\u001b[0m                 \u001b[0;32mreturn\u001b[0m \u001b[0mself\u001b[0m\u001b[0;34m.\u001b[0m\u001b[0m_engine\u001b[0m\u001b[0;34m.\u001b[0m\u001b[0mget_loc\u001b[0m\u001b[0;34m(\u001b[0m\u001b[0mcasted_key\u001b[0m\u001b[0;34m)\u001b[0m\u001b[0;34m\u001b[0m\u001b[0;34m\u001b[0m\u001b[0m\n\u001b[1;32m   3081\u001b[0m             \u001b[0;32mexcept\u001b[0m \u001b[0mKeyError\u001b[0m \u001b[0;32mas\u001b[0m \u001b[0merr\u001b[0m\u001b[0;34m:\u001b[0m\u001b[0;34m\u001b[0m\u001b[0;34m\u001b[0m\u001b[0m\n\u001b[0;32m-> 3082\u001b[0;31m                 \u001b[0;32mraise\u001b[0m \u001b[0mKeyError\u001b[0m\u001b[0;34m(\u001b[0m\u001b[0mkey\u001b[0m\u001b[0;34m)\u001b[0m \u001b[0;32mfrom\u001b[0m \u001b[0merr\u001b[0m\u001b[0;34m\u001b[0m\u001b[0;34m\u001b[0m\u001b[0m\n\u001b[0m\u001b[1;32m   3083\u001b[0m \u001b[0;34m\u001b[0m\u001b[0m\n\u001b[1;32m   3084\u001b[0m         \u001b[0;32mif\u001b[0m \u001b[0mtolerance\u001b[0m \u001b[0;32mis\u001b[0m \u001b[0;32mnot\u001b[0m \u001b[0;32mNone\u001b[0m\u001b[0;34m:\u001b[0m\u001b[0;34m\u001b[0m\u001b[0;34m\u001b[0m\u001b[0m\n",
      "\u001b[0;31mKeyError\u001b[0m: 'minutes_included'"
     ]
    }
   ],
   "source": [
    "user_behavior['paid_minutes'] = user_behavior['minutes'] - user_behavior['minutes_included']\n",
    "user_behavior['paid_messages'] = user_behavior['messages'] - user_behavior['messages_included']\n",
    "user_behavior['paid_mb'] = user_behavior['mb_used'] - user_behavior['mb_per_month_included']\n",
    "\n",
    "for col in ['paid_messages', 'paid_minutes', 'paid_mb']:\n",
    "    user_behavior.loc[user_behavior[col] < 0, col] = 0"
   ]
  },
  {
   "cell_type": "markdown",
   "metadata": {
    "deletable": false,
    "editable": false
   },
   "source": [
    "Переводим превышающие тариф мегабайты в гигабайты и сохраняем в столбец `paid_gb`"
   ]
  },
  {
   "cell_type": "code",
   "execution_count": null,
   "metadata": {
    "deletable": false
   },
   "outputs": [],
   "source": [
    "user_behavior['paid_gb'] = np.ceil(user_behavior['paid_mb'] / 1024).astype(int)"
   ]
  },
  {
   "cell_type": "markdown",
   "metadata": {
    "deletable": false,
    "editable": false
   },
   "source": [
    "Считаем выручку за минуты разговора, сообщения и интернет"
   ]
  },
  {
   "cell_type": "code",
   "execution_count": null,
   "metadata": {
    "deletable": false
   },
   "outputs": [],
   "source": [
    "user_behavior['cost_minutes'] = user_behavior['paid_minutes'] * user_behavior['rub_per_minute']\n",
    "user_behavior['cost_messages'] = user_behavior['paid_messages'] * user_behavior['rub_per_message']\n",
    "user_behavior['cost_gb'] = user_behavior['paid_gb'] * user_behavior['rub_per_gb']"
   ]
  },
  {
   "cell_type": "markdown",
   "metadata": {
    "deletable": false,
    "editable": false
   },
   "source": [
    "Считаем помесячную выручку с каждого пользователя, она будет храниться в столбец `total_cost`"
   ]
  },
  {
   "cell_type": "code",
   "execution_count": null,
   "metadata": {
    "deletable": false
   },
   "outputs": [],
   "source": [
    "user_behavior['total_cost'] = \\\n",
    "      user_behavior['rub_monthly_fee']\\\n",
    "    + user_behavior['cost_minutes']\\\n",
    "    + user_behavior['cost_messages']\\\n",
    "    + user_behavior['cost_gb']"
   ]
  },
  {
   "cell_type": "markdown",
   "metadata": {
    "deletable": false,
    "editable": false
   },
   "source": [
    "Датафрейм `stats_df` для каждой пары \"месяц-тариф\" будет хранить основные характеристики"
   ]
  },
  {
   "cell_type": "code",
   "execution_count": null,
   "metadata": {
    "deletable": false
   },
   "outputs": [],
   "source": [
    "# сохранение статистических метрик для каждой пары месяц-тариф\n",
    "# в одной таблице stats_df (среднее значение, стандартное отклонение, медиана)\n",
    "\n",
    "stats_df = user_behavior.pivot_table(\n",
    "            index=['month', 'tariff'],\\\n",
    "            values=['calls', 'minutes', 'messages', 'mb_used'],\\\n",
    "            aggfunc=['mean', 'std', 'median']\\\n",
    ").round(2).reset_index()\n",
    "\n",
    "stats_df.columns=['month', 'tariff', 'calls_mean', 'sessions_mean', 'messages_mean', 'minutes_mean',\n",
    "                                     'calls_std',  'sessions_std', 'messages_std', 'minutes_std', \n",
    "                                     'calls_median', 'sessions_median', 'messages_median',  'minutes_median']\n",
    "\n",
    "stats_df.head(10)"
   ]
  },
  {
   "cell_type": "markdown",
   "metadata": {
    "deletable": false,
    "editable": false
   },
   "source": [
    "Распределение среднего количества звонков по видам тарифов и месяцам"
   ]
  },
  {
   "cell_type": "code",
   "execution_count": null,
   "metadata": {
    "deletable": false
   },
   "outputs": [],
   "source": [
    "import seaborn as sns\n",
    "\n",
    "ax = sns.barplot(x='month',\n",
    "            y='calls_mean',\n",
    "            hue=\"tariff\",\n",
    "            data=stats_df,\n",
    "            palette=['lightblue', 'blue'])\n",
    "\n",
    "ax.set_title('Распределение количества звонков по видам тарифов и месяцам')\n",
    "ax.set(xlabel='Номер месяца', ylabel='Среднее количество звонков');"
   ]
  },
  {
   "cell_type": "code",
   "execution_count": null,
   "metadata": {
    "deletable": false
   },
   "outputs": [],
   "source": [
    "import matplotlib.pyplot as plt\n",
    "\n",
    "user_behavior.groupby('tariff')['calls'].plot(kind='hist', bins=35, alpha=0.5)\n",
    "plt.legend(['Smart', 'Ultra'])\n",
    "plt.xlabel('Количество звонков')\n",
    "plt.ylabel('Количество клиентов')\n",
    "plt.show()"
   ]
  },
  {
   "cell_type": "markdown",
   "metadata": {
    "deletable": false,
    "editable": false
   },
   "source": [
    "Распределение средней продолжительности звонков по видам тарифов и месяцам"
   ]
  },
  {
   "cell_type": "code",
   "execution_count": null,
   "metadata": {
    "deletable": false
   },
   "outputs": [],
   "source": [
    "ax = sns.barplot(x='month',\n",
    "            y='minutes_mean',\n",
    "            hue=\"tariff\",\n",
    "            data=stats_df,\n",
    "            palette=['lightblue', 'blue'])\n",
    "\n",
    "ax.set_title('Распределение продолжительности звонков по видам тарифов и месяцам')\n",
    "ax.set(xlabel='Номер месяца', ylabel='Средняя продолжительность звонков');"
   ]
  },
  {
   "cell_type": "code",
   "execution_count": null,
   "metadata": {
    "deletable": false
   },
   "outputs": [],
   "source": [
    "user_behavior[user_behavior['tariff'] =='smart']['minutes'].hist(bins=35, alpha=0.5, color='green')\n",
    "user_behavior[user_behavior['tariff'] =='ultra']['minutes'].hist(bins=35, alpha=0.5, color='blue');"
   ]
  },
  {
   "cell_type": "markdown",
   "metadata": {
    "deletable": false,
    "editable": false
   },
   "source": [
    "Средняя длительность разговоров у абонентов тарифа Ultra больше, чем у абонентов тарифа Smart. В течение года пользователи обоих тарифов увеличивают среднюю продолжительность своих разговоров. Рост средней длительности разговоров у абонентов тарифа Smart равномерный в течение года. Пользователи тарифа Ultra не проявляют подобной линейной стабильности. Стоит отметить, что феврале у абонентов обоих тарифных планов наблюдались самые низкие показатели."
   ]
  },
  {
   "cell_type": "markdown",
   "metadata": {
    "deletable": false,
    "editable": false
   },
   "source": [
    "Распределение среднего количества сообщений по видам тарифов и месяцам"
   ]
  },
  {
   "cell_type": "code",
   "execution_count": null,
   "metadata": {
    "deletable": false
   },
   "outputs": [],
   "source": [
    "ax = sns.barplot(x='month',\n",
    "            y='messages_mean',\n",
    "            hue=\"tariff\",\n",
    "            data=stats_df,\n",
    "            palette=['lightblue', 'blue']\n",
    ")\n",
    "\n",
    "ax.set_title('Распределение количества сообщений по видам тарифов и месяцам')\n",
    "ax.set(xlabel='Номер месяца', ylabel='Среднее количество звонков');"
   ]
  },
  {
   "cell_type": "code",
   "execution_count": null,
   "metadata": {
    "deletable": false
   },
   "outputs": [],
   "source": [
    "user_behavior[user_behavior['tariff'] =='smart']['messages'].hist(bins=35, alpha=0.5, color='green')\n",
    "user_behavior[user_behavior['tariff'] =='ultra']['messages'].hist(bins=35, alpha=0.5, color='blue');"
   ]
  },
  {
   "cell_type": "markdown",
   "metadata": {
    "deletable": false,
    "editable": false
   },
   "source": [
    "В среднем количество сообщений пользователи тарифа Ultra отправляют больше - почти на 20 сообщений больше, чем пользователи тарифа Smart. Количество сообщений в течение года на обоих тарифак растет. Динамика по отправке сообщений схожа с тенденциями по длительности разговоров: в феврале отмечено наименьшее количество сообщений за год и пользователи тарифа Ultra также проявляют нелинейную полодительную динамику."
   ]
  },
  {
   "cell_type": "code",
   "execution_count": null,
   "metadata": {
    "deletable": false
   },
   "outputs": [],
   "source": [
    "ax = sns.barplot(x='month',\n",
    "            y='sessions_mean',\n",
    "            hue=\"tariff\",\n",
    "            data=stats_df,\n",
    "            palette=['lightblue', 'blue']\n",
    ")\n",
    "\n",
    "ax.set_title('Распределение количества потраченного трафика (Мб) по видам тарифов и месяцам')\n",
    "ax.set(xlabel='Номер месяца', ylabel='Среднее количество мегабайт');"
   ]
  },
  {
   "cell_type": "markdown",
   "metadata": {
    "deletable": false,
    "editable": false
   },
   "source": [
    "Сравнение потраченных мегабайт среди пользователей тарифов Smart и Ultra"
   ]
  },
  {
   "cell_type": "code",
   "execution_count": null,
   "metadata": {
    "deletable": false
   },
   "outputs": [],
   "source": [
    "user_behavior[user_behavior['tariff'] =='smart']['mb_used'].hist(bins=35, alpha=0.5, color='green')\n",
    "user_behavior[user_behavior['tariff'] =='ultra']['mb_used'].hist(bins=35, alpha=0.5, color='blue');"
   ]
  },
  {
   "cell_type": "markdown",
   "metadata": {
    "deletable": false,
    "editable": false
   },
   "source": [
    "Меньше всего пользователи использовали интернет в январе, феврале и апреле. Чаще всего абоненты тарифа Smart тратят 15-17 Гб, а абоненты тарифного плана Ultra - 19-21 ГБ."
   ]
  },
  {
   "cell_type": "markdown",
   "metadata": {
    "deletable": false,
    "editable": false
   },
   "source": [
    "### Проверка гипотез"
   ]
  },
  {
   "cell_type": "markdown",
   "metadata": {
    "deletable": false,
    "editable": false,
    "tags": [
     "start_task"
    ]
   },
   "source": [
    "**Задание 28.** Проверка гипотезы: средняя выручка пользователей тарифов «Ультра» и «Смарт» различаются;\n",
    "\n",
    "```\n",
    "H_0: Выручка (total_cost) пользователей \"Ультра\" = выручка (total_cost) пользователей \"Смарт\"`\n",
    "H_a: Выручка (total_cost) пользователей \"Ультра\" ≠ выручка (total_cost) пользователей \"Смарт\"`\n",
    "alpha = 0.05\n",
    "```"
   ]
  },
  {
   "cell_type": "code",
   "execution_count": null,
   "metadata": {
    "deletable": false
   },
   "outputs": [],
   "source": [
    "from scipy import stats as st"
   ]
  },
  {
   "cell_type": "code",
   "execution_count": null,
   "metadata": {
    "deletable": false
   },
   "outputs": [],
   "source": [
    "tarif_smart = user_behavior[user_behavior['tariff'] =='smart']['total_cost']\n",
    "tarif_ultra = user_behavior[user_behavior['tariff'] =='ultra']['total_cost']\n",
    "results = st.ttest_ind(tarif_smart, tarif_ultra, equal_var = False) #вызов метода для проверки гипотезы\n",
    "alpha = 0.05 #задайте значение уровня значимости\n",
    "\n",
    "print(results.pvalue)\n",
    "if results.pvalue < alpha:\n",
    "    print(\"Отвергаем нулевую гипотезу\")\n",
    "else:\n",
    "    print(\"Не получилось отвергнуть нулевую гипотезу\")# вывод значения p-value на экран \n",
    "условный оператор с выводом строки с ответом"
   ]
  },
  {
   "cell_type": "markdown",
   "metadata": {
    "deletable": false,
    "editable": false,
    "tags": [
     "start_task"
    ]
   },
   "source": [
    "**Задание 29.** Проверка гипотезы: пользователи из Москвы приносят больше выручки, чем пользователи из других городов;\n",
    "\n",
    "```\n",
    "H_0: Выручка (total_cost) пользователей из Москвы = выручка (total_cost) пользователей не из Москвы`\n",
    "H_1: Выручка (total_cost) пользователей из Москвы ≠ выручка (total_cost) пользователей не из Москвы`\n",
    "alpha = 0.05\n",
    "```"
   ]
  },
  {
   "cell_type": "code",
   "execution_count": null,
   "metadata": {
    "deletable": false
   },
   "outputs": [],
   "source": [
    "profits_from_Moscow = user_behavior[user_behavior['city'] =='Москва']['total_cost']\n",
    "profits_from_province = user_behavior[user_behavior['city'] !='Москва']['total_cost']\n",
    "results = st.ttest_ind(profits_from_Moscow,profits_from_province, equal_var = False) #вызов метода для проверки гипотезы\n",
    "alpha = 0.05 #задайте значение уровня значимости\n",
    "\n",
    "print(results.pvalue)\n",
    "if results.pvalue < alpha:\n",
    "    print(\"Отвергаем нулевую гипотезу\")\n",
    "else:\n",
    "    print(\"Не получилось отвергнуть нулевую гипотезу\")# вывод значения p-value на экран \n",
    "# условный оператор с выводом строки с ответом"
   ]
  },
  {
   "cell_type": "code",
   "execution_count": null,
   "metadata": {},
   "outputs": [],
   "source": []
  }
 ],
 "metadata": {
  "ExecuteTimeLog": [
   {
    "duration": 407,
    "start_time": "2022-07-21T06:18:58.167Z"
   },
   {
    "duration": 452,
    "start_time": "2022-07-21T06:21:34.492Z"
   },
   {
    "duration": 483,
    "start_time": "2022-07-21T06:21:53.023Z"
   },
   {
    "duration": 4,
    "start_time": "2022-07-21T06:22:47.722Z"
   },
   {
    "duration": 94,
    "start_time": "2022-07-21T06:23:43.168Z"
   },
   {
    "duration": 243,
    "start_time": "2022-07-21T06:23:55.574Z"
   },
   {
    "duration": 15,
    "start_time": "2022-07-21T06:24:27.013Z"
   },
   {
    "duration": 14,
    "start_time": "2022-07-21T06:31:24.011Z"
   },
   {
    "duration": 8,
    "start_time": "2022-07-21T06:31:39.506Z"
   },
   {
    "duration": 8,
    "start_time": "2022-07-21T06:31:54.435Z"
   },
   {
    "duration": 36,
    "start_time": "2022-07-21T06:32:09.607Z"
   },
   {
    "duration": 168,
    "start_time": "2022-07-21T06:35:49.803Z"
   },
   {
    "duration": 417,
    "start_time": "2022-07-21T06:38:06.204Z"
   },
   {
    "duration": 9,
    "start_time": "2022-07-21T06:38:42.063Z"
   },
   {
    "duration": 28,
    "start_time": "2022-07-21T06:43:45.857Z"
   },
   {
    "duration": 250,
    "start_time": "2022-07-21T06:51:05.193Z"
   },
   {
    "duration": 417,
    "start_time": "2022-07-21T06:53:08.486Z"
   },
   {
    "duration": 11,
    "start_time": "2022-07-21T06:53:39.178Z"
   },
   {
    "duration": 35,
    "start_time": "2022-07-21T06:54:19.142Z"
   },
   {
    "duration": 81,
    "start_time": "2022-07-21T06:55:09.435Z"
   },
   {
    "duration": 11,
    "start_time": "2022-07-21T06:55:43.511Z"
   },
   {
    "duration": 16,
    "start_time": "2022-07-21T06:57:49.134Z"
   },
   {
    "duration": 81,
    "start_time": "2022-07-21T07:12:13.837Z"
   },
   {
    "duration": 10,
    "start_time": "2022-07-21T07:13:44.335Z"
   },
   {
    "duration": 11,
    "start_time": "2022-07-21T07:16:18.742Z"
   },
   {
    "duration": 4,
    "start_time": "2022-07-21T07:28:30.769Z"
   },
   {
    "duration": 7,
    "start_time": "2022-07-21T07:29:12.058Z"
   },
   {
    "duration": 40,
    "start_time": "2022-07-21T07:30:26.382Z"
   },
   {
    "duration": 35,
    "start_time": "2022-07-21T07:31:14.935Z"
   },
   {
    "duration": 53,
    "start_time": "2022-07-21T07:31:57.975Z"
   },
   {
    "duration": 3,
    "start_time": "2022-07-21T07:32:37.140Z"
   },
   {
    "duration": 15,
    "start_time": "2022-07-21T07:34:34.697Z"
   },
   {
    "duration": 10,
    "start_time": "2022-07-21T07:35:02.085Z"
   },
   {
    "duration": 5,
    "start_time": "2022-07-21T07:44:22.813Z"
   },
   {
    "duration": 11,
    "start_time": "2022-07-21T07:45:37.451Z"
   },
   {
    "duration": 6,
    "start_time": "2022-07-21T07:46:46.244Z"
   },
   {
    "duration": 11,
    "start_time": "2022-07-21T07:59:17.228Z"
   },
   {
    "duration": 11,
    "start_time": "2022-07-21T07:59:40.725Z"
   },
   {
    "duration": 9,
    "start_time": "2022-07-21T07:59:49.514Z"
   },
   {
    "duration": 8,
    "start_time": "2022-07-21T08:00:03.572Z"
   },
   {
    "duration": 8,
    "start_time": "2022-07-21T08:00:51.457Z"
   },
   {
    "duration": 15,
    "start_time": "2022-07-21T08:04:18.890Z"
   },
   {
    "duration": 27,
    "start_time": "2022-07-21T08:04:52.714Z"
   },
   {
    "duration": 3,
    "start_time": "2022-07-21T08:05:36.657Z"
   },
   {
    "duration": 213,
    "start_time": "2022-07-21T08:05:36.662Z"
   },
   {
    "duration": 8,
    "start_time": "2022-07-21T08:05:36.877Z"
   },
   {
    "duration": 30,
    "start_time": "2022-07-21T08:05:36.887Z"
   },
   {
    "duration": 197,
    "start_time": "2022-07-21T08:05:36.919Z"
   },
   {
    "duration": 142,
    "start_time": "2022-07-21T08:05:37.117Z"
   },
   {
    "duration": 9,
    "start_time": "2022-07-21T08:05:37.261Z"
   },
   {
    "duration": 31,
    "start_time": "2022-07-21T08:05:37.272Z"
   },
   {
    "duration": 191,
    "start_time": "2022-07-21T08:05:37.305Z"
   },
   {
    "duration": 121,
    "start_time": "2022-07-21T08:05:37.499Z"
   },
   {
    "duration": 8,
    "start_time": "2022-07-21T08:05:37.623Z"
   },
   {
    "duration": 31,
    "start_time": "2022-07-21T08:05:37.633Z"
   },
   {
    "duration": 17,
    "start_time": "2022-07-21T08:05:37.666Z"
   },
   {
    "duration": 8,
    "start_time": "2022-07-21T08:05:37.685Z"
   },
   {
    "duration": 22,
    "start_time": "2022-07-21T08:05:37.695Z"
   },
   {
    "duration": 58,
    "start_time": "2022-07-21T08:05:37.719Z"
   },
   {
    "duration": 15,
    "start_time": "2022-07-21T08:05:37.779Z"
   },
   {
    "duration": 18,
    "start_time": "2022-07-21T08:05:37.796Z"
   },
   {
    "duration": 95,
    "start_time": "2022-07-21T08:05:37.816Z"
   },
   {
    "duration": 10,
    "start_time": "2022-07-21T08:05:37.913Z"
   },
   {
    "duration": 38,
    "start_time": "2022-07-21T08:05:37.926Z"
   },
   {
    "duration": 16,
    "start_time": "2022-07-21T08:05:37.966Z"
   },
   {
    "duration": 7,
    "start_time": "2022-07-21T08:05:37.984Z"
   },
   {
    "duration": 8,
    "start_time": "2022-07-21T08:05:37.992Z"
   },
   {
    "duration": 6,
    "start_time": "2022-07-21T08:05:38.003Z"
   },
   {
    "duration": 7,
    "start_time": "2022-07-21T08:05:38.011Z"
   },
   {
    "duration": 11,
    "start_time": "2022-07-21T08:05:38.019Z"
   },
   {
    "duration": 13,
    "start_time": "2022-07-21T08:05:38.032Z"
   },
   {
    "duration": 5,
    "start_time": "2022-07-21T08:05:38.049Z"
   },
   {
    "duration": 18,
    "start_time": "2022-07-21T08:05:38.056Z"
   },
   {
    "duration": 18,
    "start_time": "2022-07-21T08:05:38.076Z"
   },
   {
    "duration": 0,
    "start_time": "2022-07-21T08:05:38.096Z"
   },
   {
    "duration": 0,
    "start_time": "2022-07-21T08:05:38.098Z"
   },
   {
    "duration": 0,
    "start_time": "2022-07-21T08:05:38.100Z"
   },
   {
    "duration": 0,
    "start_time": "2022-07-21T08:05:38.102Z"
   },
   {
    "duration": 0,
    "start_time": "2022-07-21T08:05:38.103Z"
   },
   {
    "duration": 0,
    "start_time": "2022-07-21T08:05:38.105Z"
   },
   {
    "duration": 0,
    "start_time": "2022-07-21T08:05:38.106Z"
   },
   {
    "duration": 0,
    "start_time": "2022-07-21T08:05:38.108Z"
   },
   {
    "duration": 0,
    "start_time": "2022-07-21T08:05:38.110Z"
   },
   {
    "duration": 0,
    "start_time": "2022-07-21T08:05:38.111Z"
   },
   {
    "duration": 0,
    "start_time": "2022-07-21T08:05:38.113Z"
   },
   {
    "duration": 0,
    "start_time": "2022-07-21T08:05:38.115Z"
   },
   {
    "duration": 0,
    "start_time": "2022-07-21T08:05:38.117Z"
   },
   {
    "duration": 0,
    "start_time": "2022-07-21T08:05:38.118Z"
   },
   {
    "duration": 0,
    "start_time": "2022-07-21T08:05:38.120Z"
   },
   {
    "duration": 0,
    "start_time": "2022-07-21T08:05:38.121Z"
   },
   {
    "duration": 0,
    "start_time": "2022-07-21T08:05:38.123Z"
   },
   {
    "duration": 0,
    "start_time": "2022-07-21T08:05:38.164Z"
   },
   {
    "duration": 0,
    "start_time": "2022-07-21T08:05:38.165Z"
   },
   {
    "duration": 0,
    "start_time": "2022-07-21T08:05:38.167Z"
   },
   {
    "duration": 24,
    "start_time": "2022-07-21T08:09:55.833Z"
   },
   {
    "duration": 14,
    "start_time": "2022-07-21T08:10:02.299Z"
   },
   {
    "duration": 26,
    "start_time": "2022-07-21T08:10:39.959Z"
   },
   {
    "duration": 10,
    "start_time": "2022-07-21T08:11:42.369Z"
   },
   {
    "duration": 14,
    "start_time": "2022-07-21T08:12:21.856Z"
   },
   {
    "duration": 19,
    "start_time": "2022-07-21T08:12:44.427Z"
   },
   {
    "duration": 18,
    "start_time": "2022-07-21T08:12:53.785Z"
   },
   {
    "duration": 17,
    "start_time": "2022-07-21T08:13:07.568Z"
   },
   {
    "duration": 14,
    "start_time": "2022-07-21T08:13:16.685Z"
   },
   {
    "duration": 3,
    "start_time": "2022-07-21T08:13:19.737Z"
   },
   {
    "duration": 223,
    "start_time": "2022-07-21T08:13:19.743Z"
   },
   {
    "duration": 9,
    "start_time": "2022-07-21T08:13:19.969Z"
   },
   {
    "duration": 29,
    "start_time": "2022-07-21T08:13:19.980Z"
   },
   {
    "duration": 189,
    "start_time": "2022-07-21T08:13:20.011Z"
   },
   {
    "duration": 153,
    "start_time": "2022-07-21T08:13:20.202Z"
   },
   {
    "duration": 12,
    "start_time": "2022-07-21T08:13:20.358Z"
   },
   {
    "duration": 30,
    "start_time": "2022-07-21T08:13:20.372Z"
   },
   {
    "duration": 178,
    "start_time": "2022-07-21T08:13:20.404Z"
   },
   {
    "duration": 111,
    "start_time": "2022-07-21T08:13:20.584Z"
   },
   {
    "duration": 8,
    "start_time": "2022-07-21T08:13:20.698Z"
   },
   {
    "duration": 38,
    "start_time": "2022-07-21T08:13:20.708Z"
   },
   {
    "duration": 26,
    "start_time": "2022-07-21T08:13:20.749Z"
   },
   {
    "duration": 8,
    "start_time": "2022-07-21T08:13:20.777Z"
   },
   {
    "duration": 16,
    "start_time": "2022-07-21T08:13:20.787Z"
   },
   {
    "duration": 48,
    "start_time": "2022-07-21T08:13:20.805Z"
   },
   {
    "duration": 102,
    "start_time": "2022-07-21T08:13:20.856Z"
   },
   {
    "duration": 19,
    "start_time": "2022-07-21T08:13:20.965Z"
   },
   {
    "duration": 90,
    "start_time": "2022-07-21T08:13:20.986Z"
   },
   {
    "duration": 7,
    "start_time": "2022-07-21T08:13:21.077Z"
   },
   {
    "duration": 14,
    "start_time": "2022-07-21T08:13:21.086Z"
   },
   {
    "duration": 10,
    "start_time": "2022-07-21T08:13:21.102Z"
   },
   {
    "duration": 5,
    "start_time": "2022-07-21T08:13:21.114Z"
   },
   {
    "duration": 5,
    "start_time": "2022-07-21T08:13:21.121Z"
   },
   {
    "duration": 8,
    "start_time": "2022-07-21T08:13:21.128Z"
   },
   {
    "duration": 7,
    "start_time": "2022-07-21T08:13:21.138Z"
   },
   {
    "duration": 22,
    "start_time": "2022-07-21T08:13:21.146Z"
   },
   {
    "duration": 10,
    "start_time": "2022-07-21T08:13:21.170Z"
   },
   {
    "duration": 10,
    "start_time": "2022-07-21T08:13:21.184Z"
   },
   {
    "duration": 13,
    "start_time": "2022-07-21T08:13:21.196Z"
   },
   {
    "duration": 23,
    "start_time": "2022-07-21T08:13:21.211Z"
   },
   {
    "duration": 0,
    "start_time": "2022-07-21T08:13:21.236Z"
   },
   {
    "duration": 0,
    "start_time": "2022-07-21T08:13:21.238Z"
   },
   {
    "duration": 0,
    "start_time": "2022-07-21T08:13:21.240Z"
   },
   {
    "duration": 0,
    "start_time": "2022-07-21T08:13:21.241Z"
   },
   {
    "duration": 0,
    "start_time": "2022-07-21T08:13:21.242Z"
   },
   {
    "duration": 0,
    "start_time": "2022-07-21T08:13:21.243Z"
   },
   {
    "duration": 0,
    "start_time": "2022-07-21T08:13:21.245Z"
   },
   {
    "duration": 0,
    "start_time": "2022-07-21T08:13:21.246Z"
   },
   {
    "duration": 0,
    "start_time": "2022-07-21T08:13:21.247Z"
   },
   {
    "duration": 0,
    "start_time": "2022-07-21T08:13:21.249Z"
   },
   {
    "duration": 0,
    "start_time": "2022-07-21T08:13:21.264Z"
   },
   {
    "duration": 0,
    "start_time": "2022-07-21T08:13:21.265Z"
   },
   {
    "duration": 0,
    "start_time": "2022-07-21T08:13:21.266Z"
   },
   {
    "duration": 0,
    "start_time": "2022-07-21T08:13:21.268Z"
   },
   {
    "duration": 0,
    "start_time": "2022-07-21T08:13:21.269Z"
   },
   {
    "duration": 0,
    "start_time": "2022-07-21T08:13:21.270Z"
   },
   {
    "duration": 0,
    "start_time": "2022-07-21T08:13:21.271Z"
   },
   {
    "duration": 0,
    "start_time": "2022-07-21T08:13:21.272Z"
   },
   {
    "duration": 0,
    "start_time": "2022-07-21T08:13:21.274Z"
   },
   {
    "duration": 0,
    "start_time": "2022-07-21T08:13:21.275Z"
   },
   {
    "duration": 17,
    "start_time": "2022-07-21T08:13:39.293Z"
   },
   {
    "duration": 17,
    "start_time": "2022-07-21T08:13:43.868Z"
   },
   {
    "duration": 3,
    "start_time": "2022-07-21T08:13:47.073Z"
   },
   {
    "duration": 231,
    "start_time": "2022-07-21T08:13:47.079Z"
   },
   {
    "duration": 10,
    "start_time": "2022-07-21T08:13:47.312Z"
   },
   {
    "duration": 66,
    "start_time": "2022-07-21T08:13:47.325Z"
   },
   {
    "duration": 209,
    "start_time": "2022-07-21T08:13:47.393Z"
   },
   {
    "duration": 146,
    "start_time": "2022-07-21T08:13:47.605Z"
   },
   {
    "duration": 10,
    "start_time": "2022-07-21T08:13:47.753Z"
   },
   {
    "duration": 27,
    "start_time": "2022-07-21T08:13:47.765Z"
   },
   {
    "duration": 196,
    "start_time": "2022-07-21T08:13:47.795Z"
   },
   {
    "duration": 97,
    "start_time": "2022-07-21T08:13:47.993Z"
   },
   {
    "duration": 7,
    "start_time": "2022-07-21T08:13:48.092Z"
   },
   {
    "duration": 25,
    "start_time": "2022-07-21T08:13:48.101Z"
   },
   {
    "duration": 27,
    "start_time": "2022-07-21T08:13:48.128Z"
   },
   {
    "duration": 9,
    "start_time": "2022-07-21T08:13:48.157Z"
   },
   {
    "duration": 15,
    "start_time": "2022-07-21T08:13:48.168Z"
   },
   {
    "duration": 34,
    "start_time": "2022-07-21T08:13:48.185Z"
   },
   {
    "duration": 11,
    "start_time": "2022-07-21T08:13:48.221Z"
   },
   {
    "duration": 13,
    "start_time": "2022-07-21T08:13:48.234Z"
   },
   {
    "duration": 85,
    "start_time": "2022-07-21T08:13:48.249Z"
   },
   {
    "duration": 8,
    "start_time": "2022-07-21T08:13:48.336Z"
   },
   {
    "duration": 24,
    "start_time": "2022-07-21T08:13:48.346Z"
   },
   {
    "duration": 3,
    "start_time": "2022-07-21T08:13:48.372Z"
   },
   {
    "duration": 5,
    "start_time": "2022-07-21T08:13:48.377Z"
   },
   {
    "duration": 3,
    "start_time": "2022-07-21T08:13:48.386Z"
   },
   {
    "duration": 6,
    "start_time": "2022-07-21T08:13:48.391Z"
   },
   {
    "duration": 6,
    "start_time": "2022-07-21T08:13:48.399Z"
   },
   {
    "duration": 7,
    "start_time": "2022-07-21T08:13:48.406Z"
   },
   {
    "duration": 7,
    "start_time": "2022-07-21T08:13:48.415Z"
   },
   {
    "duration": 12,
    "start_time": "2022-07-21T08:13:48.423Z"
   },
   {
    "duration": 8,
    "start_time": "2022-07-21T08:13:48.437Z"
   },
   {
    "duration": 25,
    "start_time": "2022-07-21T08:13:48.447Z"
   },
   {
    "duration": 0,
    "start_time": "2022-07-21T08:13:48.473Z"
   },
   {
    "duration": 0,
    "start_time": "2022-07-21T08:13:48.474Z"
   },
   {
    "duration": 0,
    "start_time": "2022-07-21T08:13:48.475Z"
   },
   {
    "duration": 0,
    "start_time": "2022-07-21T08:13:48.477Z"
   },
   {
    "duration": 0,
    "start_time": "2022-07-21T08:13:48.478Z"
   },
   {
    "duration": 0,
    "start_time": "2022-07-21T08:13:48.480Z"
   },
   {
    "duration": 0,
    "start_time": "2022-07-21T08:13:48.481Z"
   },
   {
    "duration": 0,
    "start_time": "2022-07-21T08:13:48.483Z"
   },
   {
    "duration": 0,
    "start_time": "2022-07-21T08:13:48.483Z"
   },
   {
    "duration": 0,
    "start_time": "2022-07-21T08:13:48.484Z"
   },
   {
    "duration": 0,
    "start_time": "2022-07-21T08:13:48.486Z"
   },
   {
    "duration": 0,
    "start_time": "2022-07-21T08:13:48.487Z"
   },
   {
    "duration": 0,
    "start_time": "2022-07-21T08:13:48.488Z"
   },
   {
    "duration": 0,
    "start_time": "2022-07-21T08:13:48.489Z"
   },
   {
    "duration": 0,
    "start_time": "2022-07-21T08:13:48.490Z"
   },
   {
    "duration": 0,
    "start_time": "2022-07-21T08:13:48.491Z"
   },
   {
    "duration": 0,
    "start_time": "2022-07-21T08:13:48.492Z"
   },
   {
    "duration": 0,
    "start_time": "2022-07-21T08:13:48.493Z"
   },
   {
    "duration": 0,
    "start_time": "2022-07-21T08:13:48.494Z"
   },
   {
    "duration": 0,
    "start_time": "2022-07-21T08:13:48.495Z"
   },
   {
    "duration": 407,
    "start_time": "2022-07-21T08:14:06.404Z"
   },
   {
    "duration": 179,
    "start_time": "2022-07-21T08:14:06.813Z"
   },
   {
    "duration": 15,
    "start_time": "2022-07-21T08:14:06.994Z"
   },
   {
    "duration": 27,
    "start_time": "2022-07-21T08:14:07.012Z"
   },
   {
    "duration": 430,
    "start_time": "2022-07-21T08:14:07.040Z"
   },
   {
    "duration": 151,
    "start_time": "2022-07-21T08:14:07.471Z"
   },
   {
    "duration": 11,
    "start_time": "2022-07-21T08:14:07.623Z"
   },
   {
    "duration": 39,
    "start_time": "2022-07-21T08:14:07.636Z"
   },
   {
    "duration": 172,
    "start_time": "2022-07-21T08:14:07.676Z"
   },
   {
    "duration": 129,
    "start_time": "2022-07-21T08:14:07.851Z"
   },
   {
    "duration": 8,
    "start_time": "2022-07-21T08:14:07.982Z"
   },
   {
    "duration": 34,
    "start_time": "2022-07-21T08:14:07.992Z"
   },
   {
    "duration": 19,
    "start_time": "2022-07-21T08:14:08.029Z"
   },
   {
    "duration": 13,
    "start_time": "2022-07-21T08:14:08.063Z"
   },
   {
    "duration": 20,
    "start_time": "2022-07-21T08:14:08.078Z"
   },
   {
    "duration": 34,
    "start_time": "2022-07-21T08:14:08.101Z"
   },
   {
    "duration": 10,
    "start_time": "2022-07-21T08:14:08.137Z"
   },
   {
    "duration": 18,
    "start_time": "2022-07-21T08:14:08.149Z"
   },
   {
    "duration": 112,
    "start_time": "2022-07-21T08:14:08.169Z"
   },
   {
    "duration": 8,
    "start_time": "2022-07-21T08:14:08.283Z"
   },
   {
    "duration": 11,
    "start_time": "2022-07-21T08:14:08.293Z"
   },
   {
    "duration": 7,
    "start_time": "2022-07-21T08:14:08.306Z"
   },
   {
    "duration": 7,
    "start_time": "2022-07-21T08:14:08.315Z"
   },
   {
    "duration": 7,
    "start_time": "2022-07-21T08:14:08.324Z"
   },
   {
    "duration": 7,
    "start_time": "2022-07-21T08:14:08.333Z"
   },
   {
    "duration": 26,
    "start_time": "2022-07-21T08:14:08.341Z"
   },
   {
    "duration": 8,
    "start_time": "2022-07-21T08:14:08.369Z"
   },
   {
    "duration": 9,
    "start_time": "2022-07-21T08:14:08.380Z"
   },
   {
    "duration": 8,
    "start_time": "2022-07-21T08:14:08.391Z"
   },
   {
    "duration": 9,
    "start_time": "2022-07-21T08:14:08.400Z"
   },
   {
    "duration": 83,
    "start_time": "2022-07-21T08:14:08.411Z"
   },
   {
    "duration": 0,
    "start_time": "2022-07-21T08:14:08.496Z"
   },
   {
    "duration": 0,
    "start_time": "2022-07-21T08:14:08.498Z"
   },
   {
    "duration": 0,
    "start_time": "2022-07-21T08:14:08.499Z"
   },
   {
    "duration": 0,
    "start_time": "2022-07-21T08:14:08.500Z"
   },
   {
    "duration": 0,
    "start_time": "2022-07-21T08:14:08.502Z"
   },
   {
    "duration": 0,
    "start_time": "2022-07-21T08:14:08.503Z"
   },
   {
    "duration": 0,
    "start_time": "2022-07-21T08:14:08.504Z"
   },
   {
    "duration": 0,
    "start_time": "2022-07-21T08:14:08.506Z"
   },
   {
    "duration": 0,
    "start_time": "2022-07-21T08:14:08.508Z"
   },
   {
    "duration": 0,
    "start_time": "2022-07-21T08:14:08.509Z"
   },
   {
    "duration": 0,
    "start_time": "2022-07-21T08:14:08.510Z"
   },
   {
    "duration": 0,
    "start_time": "2022-07-21T08:14:08.512Z"
   },
   {
    "duration": 0,
    "start_time": "2022-07-21T08:14:08.513Z"
   },
   {
    "duration": 0,
    "start_time": "2022-07-21T08:14:08.515Z"
   },
   {
    "duration": 0,
    "start_time": "2022-07-21T08:14:08.516Z"
   },
   {
    "duration": 0,
    "start_time": "2022-07-21T08:14:08.518Z"
   },
   {
    "duration": 0,
    "start_time": "2022-07-21T08:14:08.519Z"
   },
   {
    "duration": 0,
    "start_time": "2022-07-21T08:14:08.521Z"
   },
   {
    "duration": 0,
    "start_time": "2022-07-21T08:14:08.522Z"
   },
   {
    "duration": 0,
    "start_time": "2022-07-21T08:14:08.565Z"
   },
   {
    "duration": 27,
    "start_time": "2022-07-21T08:16:00.451Z"
   },
   {
    "duration": 23,
    "start_time": "2022-07-21T08:16:15.561Z"
   },
   {
    "duration": 15,
    "start_time": "2022-07-21T08:17:17.244Z"
   },
   {
    "duration": 22,
    "start_time": "2022-07-21T08:18:12.284Z"
   },
   {
    "duration": 9,
    "start_time": "2022-07-21T08:22:17.815Z"
   },
   {
    "duration": 40,
    "start_time": "2022-07-21T08:22:31.616Z"
   },
   {
    "duration": 8,
    "start_time": "2022-07-21T08:22:34.813Z"
   },
   {
    "duration": 16,
    "start_time": "2022-07-21T08:24:01.961Z"
   },
   {
    "duration": 23,
    "start_time": "2022-07-21T08:24:11.906Z"
   },
   {
    "duration": 5,
    "start_time": "2022-07-21T08:24:18.084Z"
   },
   {
    "duration": 38,
    "start_time": "2022-07-21T08:24:28.968Z"
   },
   {
    "duration": 11,
    "start_time": "2022-07-21T08:24:33.747Z"
   },
   {
    "duration": 23,
    "start_time": "2022-07-21T08:24:47.165Z"
   },
   {
    "duration": 6,
    "start_time": "2022-07-21T08:24:52.147Z"
   },
   {
    "duration": 13,
    "start_time": "2022-07-21T08:25:26.152Z"
   },
   {
    "duration": 6,
    "start_time": "2022-07-21T08:25:50.424Z"
   },
   {
    "duration": 3,
    "start_time": "2022-07-21T08:26:28.969Z"
   },
   {
    "duration": 218,
    "start_time": "2022-07-21T08:26:28.977Z"
   },
   {
    "duration": 9,
    "start_time": "2022-07-21T08:26:29.197Z"
   },
   {
    "duration": 33,
    "start_time": "2022-07-21T08:26:29.208Z"
   },
   {
    "duration": 188,
    "start_time": "2022-07-21T08:26:29.263Z"
   },
   {
    "duration": 157,
    "start_time": "2022-07-21T08:26:29.453Z"
   },
   {
    "duration": 10,
    "start_time": "2022-07-21T08:26:29.612Z"
   },
   {
    "duration": 44,
    "start_time": "2022-07-21T08:26:29.624Z"
   },
   {
    "duration": 178,
    "start_time": "2022-07-21T08:26:29.670Z"
   },
   {
    "duration": 102,
    "start_time": "2022-07-21T08:26:29.850Z"
   },
   {
    "duration": 10,
    "start_time": "2022-07-21T08:26:29.955Z"
   },
   {
    "duration": 30,
    "start_time": "2022-07-21T08:26:29.967Z"
   },
   {
    "duration": 46,
    "start_time": "2022-07-21T08:26:30.000Z"
   },
   {
    "duration": 9,
    "start_time": "2022-07-21T08:26:30.048Z"
   },
   {
    "duration": 26,
    "start_time": "2022-07-21T08:26:30.059Z"
   },
   {
    "duration": 41,
    "start_time": "2022-07-21T08:26:30.088Z"
   },
   {
    "duration": 17,
    "start_time": "2022-07-21T08:26:30.132Z"
   },
   {
    "duration": 17,
    "start_time": "2022-07-21T08:26:30.151Z"
   },
   {
    "duration": 100,
    "start_time": "2022-07-21T08:26:30.170Z"
   },
   {
    "duration": 7,
    "start_time": "2022-07-21T08:26:30.272Z"
   },
   {
    "duration": 17,
    "start_time": "2022-07-21T08:26:30.281Z"
   },
   {
    "duration": 44,
    "start_time": "2022-07-21T08:26:30.300Z"
   },
   {
    "duration": 24,
    "start_time": "2022-07-21T08:26:30.347Z"
   },
   {
    "duration": 25,
    "start_time": "2022-07-21T08:26:30.373Z"
   },
   {
    "duration": 22,
    "start_time": "2022-07-21T08:26:30.402Z"
   },
   {
    "duration": 6,
    "start_time": "2022-07-21T08:26:30.426Z"
   },
   {
    "duration": 27,
    "start_time": "2022-07-21T08:26:30.435Z"
   },
   {
    "duration": 27,
    "start_time": "2022-07-21T08:26:30.465Z"
   },
   {
    "duration": 34,
    "start_time": "2022-07-21T08:26:30.498Z"
   },
   {
    "duration": 27,
    "start_time": "2022-07-21T08:26:30.534Z"
   },
   {
    "duration": 18,
    "start_time": "2022-07-21T08:26:30.563Z"
   },
   {
    "duration": 23,
    "start_time": "2022-07-21T08:26:30.583Z"
   },
   {
    "duration": 18,
    "start_time": "2022-07-21T08:26:30.608Z"
   },
   {
    "duration": 47,
    "start_time": "2022-07-21T08:26:30.628Z"
   },
   {
    "duration": 0,
    "start_time": "2022-07-21T08:26:30.678Z"
   },
   {
    "duration": 0,
    "start_time": "2022-07-21T08:26:30.679Z"
   },
   {
    "duration": 0,
    "start_time": "2022-07-21T08:26:30.680Z"
   },
   {
    "duration": 0,
    "start_time": "2022-07-21T08:26:30.681Z"
   },
   {
    "duration": 0,
    "start_time": "2022-07-21T08:26:30.683Z"
   },
   {
    "duration": 0,
    "start_time": "2022-07-21T08:26:30.684Z"
   },
   {
    "duration": 0,
    "start_time": "2022-07-21T08:26:30.686Z"
   },
   {
    "duration": 0,
    "start_time": "2022-07-21T08:26:30.687Z"
   },
   {
    "duration": 0,
    "start_time": "2022-07-21T08:26:30.689Z"
   },
   {
    "duration": 0,
    "start_time": "2022-07-21T08:26:30.690Z"
   },
   {
    "duration": 0,
    "start_time": "2022-07-21T08:26:30.691Z"
   },
   {
    "duration": 0,
    "start_time": "2022-07-21T08:26:30.692Z"
   },
   {
    "duration": 0,
    "start_time": "2022-07-21T08:26:30.694Z"
   },
   {
    "duration": 0,
    "start_time": "2022-07-21T08:26:30.699Z"
   },
   {
    "duration": 0,
    "start_time": "2022-07-21T08:26:30.700Z"
   },
   {
    "duration": 0,
    "start_time": "2022-07-21T08:26:30.702Z"
   },
   {
    "duration": 0,
    "start_time": "2022-07-21T08:26:30.703Z"
   },
   {
    "duration": 0,
    "start_time": "2022-07-21T08:26:30.704Z"
   },
   {
    "duration": 0,
    "start_time": "2022-07-21T08:26:30.705Z"
   },
   {
    "duration": 0,
    "start_time": "2022-07-21T08:26:30.706Z"
   },
   {
    "duration": 424,
    "start_time": "2022-07-21T08:26:54.991Z"
   },
   {
    "duration": 212,
    "start_time": "2022-07-21T08:26:55.417Z"
   },
   {
    "duration": 18,
    "start_time": "2022-07-21T08:26:55.631Z"
   },
   {
    "duration": 27,
    "start_time": "2022-07-21T08:26:55.663Z"
   },
   {
    "duration": 416,
    "start_time": "2022-07-21T08:26:55.692Z"
   },
   {
    "duration": 154,
    "start_time": "2022-07-21T08:26:56.110Z"
   },
   {
    "duration": 10,
    "start_time": "2022-07-21T08:26:56.266Z"
   },
   {
    "duration": 31,
    "start_time": "2022-07-21T08:26:56.277Z"
   },
   {
    "duration": 184,
    "start_time": "2022-07-21T08:26:56.310Z"
   },
   {
    "duration": 117,
    "start_time": "2022-07-21T08:26:56.497Z"
   },
   {
    "duration": 10,
    "start_time": "2022-07-21T08:26:56.617Z"
   },
   {
    "duration": 38,
    "start_time": "2022-07-21T08:26:56.630Z"
   },
   {
    "duration": 18,
    "start_time": "2022-07-21T08:26:56.670Z"
   },
   {
    "duration": 11,
    "start_time": "2022-07-21T08:26:56.691Z"
   },
   {
    "duration": 14,
    "start_time": "2022-07-21T08:26:56.703Z"
   },
   {
    "duration": 43,
    "start_time": "2022-07-21T08:26:56.719Z"
   },
   {
    "duration": 10,
    "start_time": "2022-07-21T08:26:56.764Z"
   },
   {
    "duration": 12,
    "start_time": "2022-07-21T08:26:56.776Z"
   },
   {
    "duration": 96,
    "start_time": "2022-07-21T08:26:56.790Z"
   },
   {
    "duration": 8,
    "start_time": "2022-07-21T08:26:56.887Z"
   },
   {
    "duration": 16,
    "start_time": "2022-07-21T08:26:56.897Z"
   },
   {
    "duration": 25,
    "start_time": "2022-07-21T08:26:56.915Z"
   },
   {
    "duration": 26,
    "start_time": "2022-07-21T08:26:56.942Z"
   },
   {
    "duration": 19,
    "start_time": "2022-07-21T08:26:56.970Z"
   },
   {
    "duration": 17,
    "start_time": "2022-07-21T08:26:56.991Z"
   },
   {
    "duration": 5,
    "start_time": "2022-07-21T08:26:57.009Z"
   },
   {
    "duration": 11,
    "start_time": "2022-07-21T08:26:57.016Z"
   },
   {
    "duration": 33,
    "start_time": "2022-07-21T08:26:57.031Z"
   },
   {
    "duration": 4,
    "start_time": "2022-07-21T08:26:57.066Z"
   },
   {
    "duration": 6,
    "start_time": "2022-07-21T08:26:57.071Z"
   },
   {
    "duration": 5,
    "start_time": "2022-07-21T08:26:57.079Z"
   },
   {
    "duration": 4,
    "start_time": "2022-07-21T08:26:57.087Z"
   },
   {
    "duration": 7,
    "start_time": "2022-07-21T08:26:57.093Z"
   },
   {
    "duration": 103,
    "start_time": "2022-07-21T08:26:57.102Z"
   },
   {
    "duration": 0,
    "start_time": "2022-07-21T08:26:57.206Z"
   },
   {
    "duration": 0,
    "start_time": "2022-07-21T08:26:57.208Z"
   },
   {
    "duration": 0,
    "start_time": "2022-07-21T08:26:57.209Z"
   },
   {
    "duration": 0,
    "start_time": "2022-07-21T08:26:57.210Z"
   },
   {
    "duration": 0,
    "start_time": "2022-07-21T08:26:57.211Z"
   },
   {
    "duration": 0,
    "start_time": "2022-07-21T08:26:57.212Z"
   },
   {
    "duration": 0,
    "start_time": "2022-07-21T08:26:57.212Z"
   },
   {
    "duration": 0,
    "start_time": "2022-07-21T08:26:57.214Z"
   },
   {
    "duration": 0,
    "start_time": "2022-07-21T08:26:57.215Z"
   },
   {
    "duration": 0,
    "start_time": "2022-07-21T08:26:57.216Z"
   },
   {
    "duration": 0,
    "start_time": "2022-07-21T08:26:57.217Z"
   },
   {
    "duration": 0,
    "start_time": "2022-07-21T08:26:57.218Z"
   },
   {
    "duration": 0,
    "start_time": "2022-07-21T08:26:57.219Z"
   },
   {
    "duration": 0,
    "start_time": "2022-07-21T08:26:57.220Z"
   },
   {
    "duration": 0,
    "start_time": "2022-07-21T08:26:57.220Z"
   },
   {
    "duration": 0,
    "start_time": "2022-07-21T08:26:57.221Z"
   },
   {
    "duration": 0,
    "start_time": "2022-07-21T08:26:57.222Z"
   },
   {
    "duration": 0,
    "start_time": "2022-07-21T08:26:57.223Z"
   },
   {
    "duration": 0,
    "start_time": "2022-07-21T08:26:57.224Z"
   },
   {
    "duration": 0,
    "start_time": "2022-07-21T08:26:57.225Z"
   },
   {
    "duration": 20,
    "start_time": "2022-07-21T11:09:29.250Z"
   },
   {
    "duration": 9,
    "start_time": "2022-07-21T11:09:32.279Z"
   },
   {
    "duration": 164,
    "start_time": "2022-07-21T11:11:13.594Z"
   },
   {
    "duration": 12,
    "start_time": "2022-07-21T11:11:31.824Z"
   },
   {
    "duration": 27,
    "start_time": "2022-07-21T11:12:24.011Z"
   },
   {
    "duration": 13,
    "start_time": "2022-07-21T11:12:28.267Z"
   },
   {
    "duration": 18,
    "start_time": "2022-07-21T11:20:19.225Z"
   },
   {
    "duration": 11,
    "start_time": "2022-07-21T11:21:44.142Z"
   },
   {
    "duration": 10,
    "start_time": "2022-07-21T11:22:14.745Z"
   },
   {
    "duration": 10,
    "start_time": "2022-07-21T11:25:04.292Z"
   },
   {
    "duration": 28,
    "start_time": "2022-07-21T11:26:59.506Z"
   },
   {
    "duration": 6,
    "start_time": "2022-07-21T11:27:37.096Z"
   },
   {
    "duration": 22,
    "start_time": "2022-07-21T11:28:08.676Z"
   },
   {
    "duration": 9,
    "start_time": "2022-07-21T11:28:11.584Z"
   },
   {
    "duration": 35,
    "start_time": "2022-07-21T11:28:26.147Z"
   },
   {
    "duration": 8,
    "start_time": "2022-07-21T11:28:28.677Z"
   },
   {
    "duration": 3,
    "start_time": "2022-07-21T11:28:43.019Z"
   },
   {
    "duration": 203,
    "start_time": "2022-07-21T11:28:43.025Z"
   },
   {
    "duration": 9,
    "start_time": "2022-07-21T11:28:43.230Z"
   },
   {
    "duration": 53,
    "start_time": "2022-07-21T11:28:43.240Z"
   },
   {
    "duration": 188,
    "start_time": "2022-07-21T11:28:43.295Z"
   },
   {
    "duration": 144,
    "start_time": "2022-07-21T11:28:43.484Z"
   },
   {
    "duration": 9,
    "start_time": "2022-07-21T11:28:43.629Z"
   },
   {
    "duration": 35,
    "start_time": "2022-07-21T11:28:43.640Z"
   },
   {
    "duration": 155,
    "start_time": "2022-07-21T11:28:43.677Z"
   },
   {
    "duration": 96,
    "start_time": "2022-07-21T11:28:43.834Z"
   },
   {
    "duration": 8,
    "start_time": "2022-07-21T11:28:43.932Z"
   },
   {
    "duration": 54,
    "start_time": "2022-07-21T11:28:43.942Z"
   },
   {
    "duration": 17,
    "start_time": "2022-07-21T11:28:43.998Z"
   },
   {
    "duration": 9,
    "start_time": "2022-07-21T11:28:44.016Z"
   },
   {
    "duration": 15,
    "start_time": "2022-07-21T11:28:44.026Z"
   },
   {
    "duration": 73,
    "start_time": "2022-07-21T11:28:44.045Z"
   },
   {
    "duration": 12,
    "start_time": "2022-07-21T11:28:44.120Z"
   },
   {
    "duration": 22,
    "start_time": "2022-07-21T11:28:44.134Z"
   },
   {
    "duration": 101,
    "start_time": "2022-07-21T11:28:44.158Z"
   },
   {
    "duration": 13,
    "start_time": "2022-07-21T11:28:44.261Z"
   },
   {
    "duration": 16,
    "start_time": "2022-07-21T11:28:44.276Z"
   },
   {
    "duration": 35,
    "start_time": "2022-07-21T11:28:44.294Z"
   },
   {
    "duration": 14,
    "start_time": "2022-07-21T11:28:44.331Z"
   },
   {
    "duration": 29,
    "start_time": "2022-07-21T11:28:44.347Z"
   },
   {
    "duration": 32,
    "start_time": "2022-07-21T11:28:44.379Z"
   },
   {
    "duration": 8,
    "start_time": "2022-07-21T11:28:44.413Z"
   },
   {
    "duration": 40,
    "start_time": "2022-07-21T11:28:44.423Z"
   },
   {
    "duration": 7,
    "start_time": "2022-07-21T11:28:44.471Z"
   },
   {
    "duration": 6,
    "start_time": "2022-07-21T11:28:44.481Z"
   },
   {
    "duration": 8,
    "start_time": "2022-07-21T11:28:44.489Z"
   },
   {
    "duration": 5,
    "start_time": "2022-07-21T11:28:44.499Z"
   },
   {
    "duration": 10,
    "start_time": "2022-07-21T11:28:44.505Z"
   },
   {
    "duration": 7,
    "start_time": "2022-07-21T11:28:44.516Z"
   },
   {
    "duration": 13,
    "start_time": "2022-07-21T11:28:44.525Z"
   },
   {
    "duration": 0,
    "start_time": "2022-07-21T11:28:44.540Z"
   },
   {
    "duration": 0,
    "start_time": "2022-07-21T11:28:44.541Z"
   },
   {
    "duration": 0,
    "start_time": "2022-07-21T11:28:44.542Z"
   },
   {
    "duration": 0,
    "start_time": "2022-07-21T11:28:44.543Z"
   },
   {
    "duration": 0,
    "start_time": "2022-07-21T11:28:44.544Z"
   },
   {
    "duration": 0,
    "start_time": "2022-07-21T11:28:44.545Z"
   },
   {
    "duration": 0,
    "start_time": "2022-07-21T11:28:44.546Z"
   },
   {
    "duration": 0,
    "start_time": "2022-07-21T11:28:44.548Z"
   },
   {
    "duration": 0,
    "start_time": "2022-07-21T11:28:44.549Z"
   },
   {
    "duration": 0,
    "start_time": "2022-07-21T11:28:44.564Z"
   },
   {
    "duration": 0,
    "start_time": "2022-07-21T11:28:44.565Z"
   },
   {
    "duration": 0,
    "start_time": "2022-07-21T11:28:44.565Z"
   },
   {
    "duration": 0,
    "start_time": "2022-07-21T11:28:44.566Z"
   },
   {
    "duration": 0,
    "start_time": "2022-07-21T11:28:44.567Z"
   },
   {
    "duration": 0,
    "start_time": "2022-07-21T11:28:44.568Z"
   },
   {
    "duration": 0,
    "start_time": "2022-07-21T11:28:44.569Z"
   },
   {
    "duration": 0,
    "start_time": "2022-07-21T11:28:44.575Z"
   },
   {
    "duration": 0,
    "start_time": "2022-07-21T11:28:44.576Z"
   },
   {
    "duration": 0,
    "start_time": "2022-07-21T11:28:44.577Z"
   },
   {
    "duration": 0,
    "start_time": "2022-07-21T11:28:44.579Z"
   },
   {
    "duration": 22,
    "start_time": "2022-07-21T11:30:37.792Z"
   },
   {
    "duration": 6,
    "start_time": "2022-07-21T11:30:42.249Z"
   },
   {
    "duration": 36,
    "start_time": "2022-07-21T11:32:08.742Z"
   },
   {
    "duration": 8,
    "start_time": "2022-07-21T11:32:10.581Z"
   },
   {
    "duration": 28,
    "start_time": "2022-07-21T11:46:10.973Z"
   },
   {
    "duration": 9,
    "start_time": "2022-07-21T11:46:14.079Z"
   },
   {
    "duration": 8,
    "start_time": "2022-07-21T11:49:19.277Z"
   },
   {
    "duration": 24,
    "start_time": "2022-07-21T11:49:57.859Z"
   },
   {
    "duration": 9,
    "start_time": "2022-07-21T11:50:12.991Z"
   },
   {
    "duration": 18,
    "start_time": "2022-07-21T11:53:54.112Z"
   },
   {
    "duration": 10,
    "start_time": "2022-07-21T11:54:09.783Z"
   },
   {
    "duration": 429,
    "start_time": "2022-07-21T11:55:03.355Z"
   },
   {
    "duration": 171,
    "start_time": "2022-07-21T11:55:03.785Z"
   },
   {
    "duration": 24,
    "start_time": "2022-07-21T11:55:03.957Z"
   },
   {
    "duration": 25,
    "start_time": "2022-07-21T11:55:03.984Z"
   },
   {
    "duration": 429,
    "start_time": "2022-07-21T11:55:04.011Z"
   },
   {
    "duration": 146,
    "start_time": "2022-07-21T11:55:04.441Z"
   },
   {
    "duration": 11,
    "start_time": "2022-07-21T11:55:04.589Z"
   },
   {
    "duration": 31,
    "start_time": "2022-07-21T11:55:04.602Z"
   },
   {
    "duration": 171,
    "start_time": "2022-07-21T11:55:04.635Z"
   },
   {
    "duration": 115,
    "start_time": "2022-07-21T11:55:04.810Z"
   },
   {
    "duration": 8,
    "start_time": "2022-07-21T11:55:04.927Z"
   },
   {
    "duration": 19,
    "start_time": "2022-07-21T11:55:04.937Z"
   },
   {
    "duration": 20,
    "start_time": "2022-07-21T11:55:04.963Z"
   },
   {
    "duration": 8,
    "start_time": "2022-07-21T11:55:04.985Z"
   },
   {
    "duration": 15,
    "start_time": "2022-07-21T11:55:04.995Z"
   },
   {
    "duration": 33,
    "start_time": "2022-07-21T11:55:05.013Z"
   },
   {
    "duration": 9,
    "start_time": "2022-07-21T11:55:05.048Z"
   },
   {
    "duration": 20,
    "start_time": "2022-07-21T11:55:05.059Z"
   },
   {
    "duration": 80,
    "start_time": "2022-07-21T11:55:05.081Z"
   },
   {
    "duration": 12,
    "start_time": "2022-07-21T11:55:05.165Z"
   },
   {
    "duration": 43,
    "start_time": "2022-07-21T11:55:05.179Z"
   },
   {
    "duration": 45,
    "start_time": "2022-07-21T11:55:05.224Z"
   },
   {
    "duration": 16,
    "start_time": "2022-07-21T11:55:05.277Z"
   },
   {
    "duration": 19,
    "start_time": "2022-07-21T11:55:05.294Z"
   },
   {
    "duration": 25,
    "start_time": "2022-07-21T11:55:05.315Z"
   },
   {
    "duration": 8,
    "start_time": "2022-07-21T11:55:05.342Z"
   },
   {
    "duration": 32,
    "start_time": "2022-07-21T11:55:05.369Z"
   },
   {
    "duration": 17,
    "start_time": "2022-07-21T11:55:05.404Z"
   },
   {
    "duration": 21,
    "start_time": "2022-07-21T11:55:05.423Z"
   },
   {
    "duration": 32,
    "start_time": "2022-07-21T11:55:05.445Z"
   },
   {
    "duration": 19,
    "start_time": "2022-07-21T11:55:05.479Z"
   },
   {
    "duration": 9,
    "start_time": "2022-07-21T11:55:05.500Z"
   },
   {
    "duration": 7,
    "start_time": "2022-07-21T11:55:05.510Z"
   },
   {
    "duration": 51,
    "start_time": "2022-07-21T11:55:05.519Z"
   },
   {
    "duration": 10,
    "start_time": "2022-07-21T11:55:05.573Z"
   },
   {
    "duration": 6,
    "start_time": "2022-07-21T11:55:05.585Z"
   },
   {
    "duration": 6,
    "start_time": "2022-07-21T11:55:05.593Z"
   },
   {
    "duration": 10,
    "start_time": "2022-07-21T11:55:05.601Z"
   },
   {
    "duration": 9,
    "start_time": "2022-07-21T11:55:05.612Z"
   },
   {
    "duration": 4,
    "start_time": "2022-07-21T11:55:05.623Z"
   },
   {
    "duration": 13,
    "start_time": "2022-07-21T11:55:05.628Z"
   },
   {
    "duration": 28,
    "start_time": "2022-07-21T11:55:05.642Z"
   },
   {
    "duration": 52,
    "start_time": "2022-07-21T11:55:05.672Z"
   },
   {
    "duration": 787,
    "start_time": "2022-07-21T11:55:05.725Z"
   },
   {
    "duration": 247,
    "start_time": "2022-07-21T11:55:06.513Z"
   },
   {
    "duration": 314,
    "start_time": "2022-07-21T11:55:06.763Z"
   },
   {
    "duration": 305,
    "start_time": "2022-07-21T11:55:07.079Z"
   },
   {
    "duration": 291,
    "start_time": "2022-07-21T11:55:07.386Z"
   },
   {
    "duration": 208,
    "start_time": "2022-07-21T11:55:07.679Z"
   },
   {
    "duration": 312,
    "start_time": "2022-07-21T11:55:07.890Z"
   },
   {
    "duration": 212,
    "start_time": "2022-07-21T11:55:08.204Z"
   },
   {
    "duration": 3,
    "start_time": "2022-07-21T11:55:08.417Z"
   },
   {
    "duration": 7,
    "start_time": "2022-07-21T11:55:08.421Z"
   },
   {
    "duration": 8,
    "start_time": "2022-07-21T11:55:08.429Z"
   },
   {
    "duration": 3,
    "start_time": "2022-07-21T11:55:11.647Z"
   },
   {
    "duration": 225,
    "start_time": "2022-07-21T11:55:11.653Z"
   },
   {
    "duration": 9,
    "start_time": "2022-07-21T11:55:11.880Z"
   },
   {
    "duration": 26,
    "start_time": "2022-07-21T11:55:11.891Z"
   },
   {
    "duration": 162,
    "start_time": "2022-07-21T11:55:11.919Z"
   },
   {
    "duration": 138,
    "start_time": "2022-07-21T11:55:12.083Z"
   },
   {
    "duration": 9,
    "start_time": "2022-07-21T11:55:12.223Z"
   },
   {
    "duration": 26,
    "start_time": "2022-07-21T11:55:12.234Z"
   },
   {
    "duration": 259,
    "start_time": "2022-07-21T11:55:12.262Z"
   },
   {
    "duration": 106,
    "start_time": "2022-07-21T11:55:12.523Z"
   },
   {
    "duration": 9,
    "start_time": "2022-07-21T11:55:12.632Z"
   },
   {
    "duration": 36,
    "start_time": "2022-07-21T11:55:12.644Z"
   },
   {
    "duration": 32,
    "start_time": "2022-07-21T11:55:12.687Z"
   },
   {
    "duration": 10,
    "start_time": "2022-07-21T11:55:12.721Z"
   },
   {
    "duration": 22,
    "start_time": "2022-07-21T11:55:12.732Z"
   },
   {
    "duration": 54,
    "start_time": "2022-07-21T11:55:12.756Z"
   },
   {
    "duration": 11,
    "start_time": "2022-07-21T11:55:12.813Z"
   },
   {
    "duration": 16,
    "start_time": "2022-07-21T11:55:12.827Z"
   },
   {
    "duration": 88,
    "start_time": "2022-07-21T11:55:12.845Z"
   },
   {
    "duration": 5,
    "start_time": "2022-07-21T11:55:12.935Z"
   },
   {
    "duration": 32,
    "start_time": "2022-07-21T11:55:12.942Z"
   },
   {
    "duration": 31,
    "start_time": "2022-07-21T11:55:12.975Z"
   },
   {
    "duration": 15,
    "start_time": "2022-07-21T11:55:13.008Z"
   },
   {
    "duration": 17,
    "start_time": "2022-07-21T11:55:13.025Z"
   },
   {
    "duration": 36,
    "start_time": "2022-07-21T11:55:13.044Z"
   },
   {
    "duration": 9,
    "start_time": "2022-07-21T11:55:13.082Z"
   },
   {
    "duration": 31,
    "start_time": "2022-07-21T11:55:13.092Z"
   },
   {
    "duration": 8,
    "start_time": "2022-07-21T11:55:13.125Z"
   },
   {
    "duration": 44,
    "start_time": "2022-07-21T11:55:13.137Z"
   },
   {
    "duration": 8,
    "start_time": "2022-07-21T11:55:13.183Z"
   },
   {
    "duration": 19,
    "start_time": "2022-07-21T11:55:13.193Z"
   },
   {
    "duration": 11,
    "start_time": "2022-07-21T11:55:13.214Z"
   },
   {
    "duration": 8,
    "start_time": "2022-07-21T11:55:13.226Z"
   },
   {
    "duration": 74,
    "start_time": "2022-07-21T11:55:13.235Z"
   },
   {
    "duration": 9,
    "start_time": "2022-07-21T11:55:13.311Z"
   },
   {
    "duration": 7,
    "start_time": "2022-07-21T11:55:13.321Z"
   },
   {
    "duration": 8,
    "start_time": "2022-07-21T11:55:13.329Z"
   },
   {
    "duration": 10,
    "start_time": "2022-07-21T11:55:13.339Z"
   },
   {
    "duration": 25,
    "start_time": "2022-07-21T11:55:13.350Z"
   },
   {
    "duration": 11,
    "start_time": "2022-07-21T11:55:13.379Z"
   },
   {
    "duration": 11,
    "start_time": "2022-07-21T11:55:13.391Z"
   },
   {
    "duration": 8,
    "start_time": "2022-07-21T11:55:13.404Z"
   },
   {
    "duration": 62,
    "start_time": "2022-07-21T11:55:13.413Z"
   },
   {
    "duration": 305,
    "start_time": "2022-07-21T11:55:13.477Z"
   },
   {
    "duration": 268,
    "start_time": "2022-07-21T11:55:13.784Z"
   },
   {
    "duration": 327,
    "start_time": "2022-07-21T11:55:14.053Z"
   },
   {
    "duration": 216,
    "start_time": "2022-07-21T11:55:14.382Z"
   },
   {
    "duration": 279,
    "start_time": "2022-07-21T11:55:14.600Z"
   },
   {
    "duration": 299,
    "start_time": "2022-07-21T11:55:14.882Z"
   },
   {
    "duration": 315,
    "start_time": "2022-07-21T11:55:15.184Z"
   },
   {
    "duration": 217,
    "start_time": "2022-07-21T11:55:15.501Z"
   },
   {
    "duration": 3,
    "start_time": "2022-07-21T11:55:15.720Z"
   },
   {
    "duration": 10,
    "start_time": "2022-07-21T11:55:15.725Z"
   },
   {
    "duration": 5,
    "start_time": "2022-07-21T11:55:15.737Z"
   },
   {
    "duration": 5,
    "start_time": "2022-07-21T12:29:22.777Z"
   },
   {
    "duration": 10,
    "start_time": "2022-07-21T12:29:39.001Z"
   },
   {
    "duration": 10,
    "start_time": "2022-07-21T12:47:19.214Z"
   },
   {
    "duration": 12,
    "start_time": "2022-07-21T12:47:36.395Z"
   },
   {
    "duration": 47,
    "start_time": "2022-07-22T06:21:20.400Z"
   },
   {
    "duration": 7,
    "start_time": "2022-07-22T06:22:12.879Z"
   },
   {
    "duration": 7,
    "start_time": "2022-07-22T06:24:28.482Z"
   },
   {
    "duration": 418,
    "start_time": "2022-07-22T06:25:29.418Z"
   },
   {
    "duration": 253,
    "start_time": "2022-07-22T06:25:29.838Z"
   },
   {
    "duration": 16,
    "start_time": "2022-07-22T06:25:30.093Z"
   },
   {
    "duration": 51,
    "start_time": "2022-07-22T06:25:30.111Z"
   },
   {
    "duration": 569,
    "start_time": "2022-07-22T06:25:30.164Z"
   },
   {
    "duration": 326,
    "start_time": "2022-07-22T06:25:30.736Z"
   },
   {
    "duration": 11,
    "start_time": "2022-07-22T06:25:31.064Z"
   },
   {
    "duration": 37,
    "start_time": "2022-07-22T06:25:31.077Z"
   },
   {
    "duration": 154,
    "start_time": "2022-07-22T06:25:31.116Z"
   },
   {
    "duration": 327,
    "start_time": "2022-07-22T06:25:31.273Z"
   },
   {
    "duration": 8,
    "start_time": "2022-07-22T06:25:31.601Z"
   },
   {
    "duration": 29,
    "start_time": "2022-07-22T06:25:31.611Z"
   },
   {
    "duration": 66,
    "start_time": "2022-07-22T06:25:31.642Z"
   },
   {
    "duration": 7,
    "start_time": "2022-07-22T06:25:31.710Z"
   },
   {
    "duration": 14,
    "start_time": "2022-07-22T06:25:31.719Z"
   },
   {
    "duration": 68,
    "start_time": "2022-07-22T06:25:31.735Z"
   },
   {
    "duration": 10,
    "start_time": "2022-07-22T06:25:31.805Z"
   },
   {
    "duration": 18,
    "start_time": "2022-07-22T06:25:31.817Z"
   },
   {
    "duration": 87,
    "start_time": "2022-07-22T06:25:31.836Z"
   },
   {
    "duration": 10,
    "start_time": "2022-07-22T06:25:31.925Z"
   },
   {
    "duration": 16,
    "start_time": "2022-07-22T06:25:31.936Z"
   },
   {
    "duration": 37,
    "start_time": "2022-07-22T06:25:31.954Z"
   },
   {
    "duration": 15,
    "start_time": "2022-07-22T06:25:31.992Z"
   },
   {
    "duration": 22,
    "start_time": "2022-07-22T06:25:32.009Z"
   },
   {
    "duration": 24,
    "start_time": "2022-07-22T06:25:32.032Z"
   },
   {
    "duration": 7,
    "start_time": "2022-07-22T06:25:32.058Z"
   },
   {
    "duration": 30,
    "start_time": "2022-07-22T06:25:32.067Z"
   },
   {
    "duration": 25,
    "start_time": "2022-07-22T06:25:32.100Z"
   },
   {
    "duration": 26,
    "start_time": "2022-07-22T06:25:32.126Z"
   },
   {
    "duration": 8,
    "start_time": "2022-07-22T06:25:32.154Z"
   },
   {
    "duration": 23,
    "start_time": "2022-07-22T06:25:32.163Z"
   },
   {
    "duration": 9,
    "start_time": "2022-07-22T06:25:32.188Z"
   },
   {
    "duration": 8,
    "start_time": "2022-07-22T06:25:32.199Z"
   },
   {
    "duration": 100,
    "start_time": "2022-07-22T06:25:32.224Z"
   },
   {
    "duration": 8,
    "start_time": "2022-07-22T06:25:32.326Z"
   },
   {
    "duration": 35,
    "start_time": "2022-07-22T06:25:32.336Z"
   },
   {
    "duration": 14,
    "start_time": "2022-07-22T06:25:32.373Z"
   },
   {
    "duration": 32,
    "start_time": "2022-07-22T06:25:32.389Z"
   },
   {
    "duration": 13,
    "start_time": "2022-07-22T06:25:32.423Z"
   },
   {
    "duration": 19,
    "start_time": "2022-07-22T06:25:32.437Z"
   },
   {
    "duration": 21,
    "start_time": "2022-07-22T06:25:32.458Z"
   },
   {
    "duration": 16,
    "start_time": "2022-07-22T06:25:32.480Z"
   },
   {
    "duration": 57,
    "start_time": "2022-07-22T06:25:32.498Z"
   },
   {
    "duration": 754,
    "start_time": "2022-07-22T06:25:32.556Z"
   },
   {
    "duration": 260,
    "start_time": "2022-07-22T06:25:33.312Z"
   },
   {
    "duration": 382,
    "start_time": "2022-07-22T06:25:33.574Z"
   },
   {
    "duration": 237,
    "start_time": "2022-07-22T06:25:33.957Z"
   },
   {
    "duration": 283,
    "start_time": "2022-07-22T06:25:34.196Z"
   },
   {
    "duration": 260,
    "start_time": "2022-07-22T06:25:34.481Z"
   },
   {
    "duration": 306,
    "start_time": "2022-07-22T06:25:34.743Z"
   },
   {
    "duration": 210,
    "start_time": "2022-07-22T06:25:35.050Z"
   },
   {
    "duration": 3,
    "start_time": "2022-07-22T06:25:35.262Z"
   },
   {
    "duration": 17,
    "start_time": "2022-07-22T06:25:35.266Z"
   },
   {
    "duration": 21,
    "start_time": "2022-07-22T06:25:35.284Z"
   },
   {
    "duration": 8,
    "start_time": "2022-07-22T06:33:26.225Z"
   },
   {
    "duration": 8,
    "start_time": "2022-07-22T06:35:10.307Z"
   },
   {
    "duration": 10,
    "start_time": "2022-07-22T06:35:24.570Z"
   },
   {
    "duration": 53,
    "start_time": "2022-07-22T06:35:47.448Z"
   },
   {
    "duration": 410,
    "start_time": "2022-09-30T15:02:00.378Z"
   },
   {
    "duration": 243,
    "start_time": "2022-09-30T15:02:00.790Z"
   },
   {
    "duration": 18,
    "start_time": "2022-09-30T15:02:01.034Z"
   },
   {
    "duration": 60,
    "start_time": "2022-09-30T15:02:01.054Z"
   },
   {
    "duration": 599,
    "start_time": "2022-09-30T15:02:01.116Z"
   },
   {
    "duration": 342,
    "start_time": "2022-09-30T15:02:01.720Z"
   },
   {
    "duration": 10,
    "start_time": "2022-09-30T15:02:02.063Z"
   },
   {
    "duration": 43,
    "start_time": "2022-09-30T15:02:02.075Z"
   },
   {
    "duration": 169,
    "start_time": "2022-09-30T15:02:02.120Z"
   },
   {
    "duration": 320,
    "start_time": "2022-09-30T15:02:02.294Z"
   },
   {
    "duration": 9,
    "start_time": "2022-09-30T15:02:02.616Z"
   },
   {
    "duration": 37,
    "start_time": "2022-09-30T15:02:02.628Z"
   },
   {
    "duration": 70,
    "start_time": "2022-09-30T15:02:02.667Z"
   },
   {
    "duration": 9,
    "start_time": "2022-09-30T15:02:02.739Z"
   },
   {
    "duration": 16,
    "start_time": "2022-09-30T15:02:02.750Z"
   },
   {
    "duration": 58,
    "start_time": "2022-09-30T15:02:02.768Z"
   },
   {
    "duration": 10,
    "start_time": "2022-09-30T15:02:02.828Z"
   },
   {
    "duration": 21,
    "start_time": "2022-09-30T15:02:02.840Z"
   },
   {
    "duration": 96,
    "start_time": "2022-09-30T15:02:02.862Z"
   },
   {
    "duration": 8,
    "start_time": "2022-09-30T15:02:02.960Z"
   },
   {
    "duration": 12,
    "start_time": "2022-09-30T15:02:02.970Z"
   },
   {
    "duration": 37,
    "start_time": "2022-09-30T15:02:02.984Z"
   },
   {
    "duration": 16,
    "start_time": "2022-09-30T15:02:03.023Z"
   },
   {
    "duration": 19,
    "start_time": "2022-09-30T15:02:03.041Z"
   },
   {
    "duration": 28,
    "start_time": "2022-09-30T15:02:03.062Z"
   },
   {
    "duration": 37,
    "start_time": "2022-09-30T15:02:03.092Z"
   },
   {
    "duration": 43,
    "start_time": "2022-09-30T15:02:03.131Z"
   },
   {
    "duration": 9,
    "start_time": "2022-09-30T15:02:03.178Z"
   },
   {
    "duration": 31,
    "start_time": "2022-09-30T15:02:03.189Z"
   },
   {
    "duration": 9,
    "start_time": "2022-09-30T15:02:03.223Z"
   },
   {
    "duration": 32,
    "start_time": "2022-09-30T15:02:03.234Z"
   },
   {
    "duration": 16,
    "start_time": "2022-09-30T15:02:03.268Z"
   },
   {
    "duration": 6,
    "start_time": "2022-09-30T15:02:03.286Z"
   },
   {
    "duration": 112,
    "start_time": "2022-09-30T15:02:03.294Z"
   },
   {
    "duration": 16,
    "start_time": "2022-09-30T15:02:03.408Z"
   },
   {
    "duration": 12,
    "start_time": "2022-09-30T15:02:03.427Z"
   },
   {
    "duration": 6,
    "start_time": "2022-09-30T15:02:03.441Z"
   },
   {
    "duration": 17,
    "start_time": "2022-09-30T15:02:03.449Z"
   },
   {
    "duration": 15,
    "start_time": "2022-09-30T15:02:03.468Z"
   },
   {
    "duration": 13,
    "start_time": "2022-09-30T15:02:03.485Z"
   },
   {
    "duration": 21,
    "start_time": "2022-09-30T15:02:03.500Z"
   },
   {
    "duration": 22,
    "start_time": "2022-09-30T15:02:03.523Z"
   },
   {
    "duration": 56,
    "start_time": "2022-09-30T15:02:03.547Z"
   },
   {
    "duration": 819,
    "start_time": "2022-09-30T15:02:03.606Z"
   },
   {
    "duration": 280,
    "start_time": "2022-09-30T15:02:04.428Z"
   },
   {
    "duration": 406,
    "start_time": "2022-09-30T15:02:04.711Z"
   },
   {
    "duration": 243,
    "start_time": "2022-09-30T15:02:05.121Z"
   },
   {
    "duration": 294,
    "start_time": "2022-09-30T15:02:05.366Z"
   },
   {
    "duration": 232,
    "start_time": "2022-09-30T15:02:05.662Z"
   },
   {
    "duration": 332,
    "start_time": "2022-09-30T15:02:05.896Z"
   },
   {
    "duration": 233,
    "start_time": "2022-09-30T15:02:06.230Z"
   },
   {
    "duration": 4,
    "start_time": "2022-09-30T15:02:06.465Z"
   },
   {
    "duration": 70,
    "start_time": "2022-09-30T15:02:06.470Z"
   },
   {
    "duration": 0,
    "start_time": "2022-09-30T15:02:06.542Z"
   },
   {
    "duration": 443,
    "start_time": "2022-09-30T15:03:13.994Z"
   },
   {
    "duration": 170,
    "start_time": "2022-09-30T15:03:14.439Z"
   },
   {
    "duration": 18,
    "start_time": "2022-09-30T15:03:14.611Z"
   },
   {
    "duration": 26,
    "start_time": "2022-09-30T15:03:14.632Z"
   },
   {
    "duration": 422,
    "start_time": "2022-09-30T15:03:14.659Z"
   },
   {
    "duration": 139,
    "start_time": "2022-09-30T15:03:15.083Z"
   },
   {
    "duration": 10,
    "start_time": "2022-09-30T15:03:15.224Z"
   },
   {
    "duration": 24,
    "start_time": "2022-09-30T15:03:15.236Z"
   },
   {
    "duration": 178,
    "start_time": "2022-09-30T15:03:15.262Z"
   },
   {
    "duration": 103,
    "start_time": "2022-09-30T15:03:15.443Z"
   },
   {
    "duration": 8,
    "start_time": "2022-09-30T15:03:15.548Z"
   },
   {
    "duration": 26,
    "start_time": "2022-09-30T15:03:15.557Z"
   },
   {
    "duration": 34,
    "start_time": "2022-09-30T15:03:15.585Z"
   },
   {
    "duration": 8,
    "start_time": "2022-09-30T15:03:15.621Z"
   },
   {
    "duration": 14,
    "start_time": "2022-09-30T15:03:15.630Z"
   },
   {
    "duration": 35,
    "start_time": "2022-09-30T15:03:15.645Z"
   },
   {
    "duration": 10,
    "start_time": "2022-09-30T15:03:15.682Z"
   },
   {
    "duration": 13,
    "start_time": "2022-09-30T15:03:15.694Z"
   },
   {
    "duration": 89,
    "start_time": "2022-09-30T15:03:15.709Z"
   },
   {
    "duration": 7,
    "start_time": "2022-09-30T15:03:15.800Z"
   },
   {
    "duration": 17,
    "start_time": "2022-09-30T15:03:15.809Z"
   },
   {
    "duration": 26,
    "start_time": "2022-09-30T15:03:15.827Z"
   },
   {
    "duration": 16,
    "start_time": "2022-09-30T15:03:15.855Z"
   },
   {
    "duration": 19,
    "start_time": "2022-09-30T15:03:15.872Z"
   },
   {
    "duration": 50,
    "start_time": "2022-09-30T15:03:15.893Z"
   },
   {
    "duration": 8,
    "start_time": "2022-09-30T15:03:15.945Z"
   },
   {
    "duration": 31,
    "start_time": "2022-09-30T15:03:15.955Z"
   },
   {
    "duration": 8,
    "start_time": "2022-09-30T15:03:15.989Z"
   },
   {
    "duration": 19,
    "start_time": "2022-09-30T15:03:16.021Z"
   },
   {
    "duration": 11,
    "start_time": "2022-09-30T15:03:16.042Z"
   },
   {
    "duration": 21,
    "start_time": "2022-09-30T15:03:16.055Z"
   },
   {
    "duration": 9,
    "start_time": "2022-09-30T15:03:16.078Z"
   },
   {
    "duration": 33,
    "start_time": "2022-09-30T15:03:16.089Z"
   },
   {
    "duration": 38,
    "start_time": "2022-09-30T15:03:16.124Z"
   },
   {
    "duration": 8,
    "start_time": "2022-09-30T15:03:16.164Z"
   },
   {
    "duration": 13,
    "start_time": "2022-09-30T15:03:16.173Z"
   },
   {
    "duration": 6,
    "start_time": "2022-09-30T15:03:16.189Z"
   },
   {
    "duration": 27,
    "start_time": "2022-09-30T15:03:16.197Z"
   },
   {
    "duration": 10,
    "start_time": "2022-09-30T15:03:16.226Z"
   },
   {
    "duration": 7,
    "start_time": "2022-09-30T15:03:16.238Z"
   },
   {
    "duration": 15,
    "start_time": "2022-09-30T15:03:16.247Z"
   },
   {
    "duration": 15,
    "start_time": "2022-09-30T15:03:16.264Z"
   },
   {
    "duration": 62,
    "start_time": "2022-09-30T15:03:16.280Z"
   },
   {
    "duration": 876,
    "start_time": "2022-09-30T15:03:16.344Z"
   },
   {
    "duration": 273,
    "start_time": "2022-09-30T15:03:17.222Z"
   },
   {
    "duration": 335,
    "start_time": "2022-09-30T15:03:17.496Z"
   },
   {
    "duration": 326,
    "start_time": "2022-09-30T15:03:17.833Z"
   },
   {
    "duration": 285,
    "start_time": "2022-09-30T15:03:18.161Z"
   },
   {
    "duration": 230,
    "start_time": "2022-09-30T15:03:18.447Z"
   },
   {
    "duration": 381,
    "start_time": "2022-09-30T15:03:18.679Z"
   },
   {
    "duration": 0,
    "start_time": "2022-09-30T15:03:19.407Z"
   },
   {
    "duration": 0,
    "start_time": "2022-09-30T15:03:19.409Z"
   },
   {
    "duration": 0,
    "start_time": "2022-09-30T15:03:19.410Z"
   },
   {
    "duration": 0,
    "start_time": "2022-09-30T15:03:19.411Z"
   },
   {
    "duration": 0,
    "start_time": "2022-09-30T15:03:19.413Z"
   },
   {
    "duration": 0,
    "start_time": "2022-09-30T15:03:19.413Z"
   },
   {
    "duration": 0,
    "start_time": "2022-09-30T15:03:19.415Z"
   },
   {
    "duration": 0,
    "start_time": "2022-09-30T15:03:19.417Z"
   },
   {
    "duration": 0,
    "start_time": "2022-09-30T15:03:19.418Z"
   },
   {
    "duration": 0,
    "start_time": "2022-09-30T15:03:19.420Z"
   },
   {
    "duration": 0,
    "start_time": "2022-09-30T15:03:19.421Z"
   },
   {
    "duration": 0,
    "start_time": "2022-09-30T15:03:19.422Z"
   },
   {
    "duration": 0,
    "start_time": "2022-09-30T15:03:19.424Z"
   },
   {
    "duration": 0,
    "start_time": "2022-09-30T15:03:19.425Z"
   },
   {
    "duration": 0,
    "start_time": "2022-09-30T15:03:19.426Z"
   },
   {
    "duration": 0,
    "start_time": "2022-09-30T15:03:19.427Z"
   },
   {
    "duration": 0,
    "start_time": "2022-09-30T15:03:19.428Z"
   },
   {
    "duration": 1,
    "start_time": "2022-09-30T15:03:19.429Z"
   },
   {
    "duration": 0,
    "start_time": "2022-09-30T15:03:19.431Z"
   },
   {
    "duration": 0,
    "start_time": "2022-09-30T15:03:19.432Z"
   },
   {
    "duration": 0,
    "start_time": "2022-09-30T15:03:19.433Z"
   },
   {
    "duration": 0,
    "start_time": "2022-09-30T15:03:19.434Z"
   },
   {
    "duration": 0,
    "start_time": "2022-09-30T15:03:19.435Z"
   },
   {
    "duration": 0,
    "start_time": "2022-09-30T15:03:19.436Z"
   },
   {
    "duration": 0,
    "start_time": "2022-09-30T15:03:19.437Z"
   },
   {
    "duration": 0,
    "start_time": "2022-09-30T15:03:19.438Z"
   },
   {
    "duration": 0,
    "start_time": "2022-09-30T15:03:19.440Z"
   },
   {
    "duration": 0,
    "start_time": "2022-09-30T15:03:19.441Z"
   },
   {
    "duration": 0,
    "start_time": "2022-09-30T15:03:19.442Z"
   },
   {
    "duration": 0,
    "start_time": "2022-09-30T15:03:19.443Z"
   },
   {
    "duration": 1,
    "start_time": "2022-09-30T15:03:19.443Z"
   },
   {
    "duration": 0,
    "start_time": "2022-09-30T15:03:19.445Z"
   },
   {
    "duration": 0,
    "start_time": "2022-09-30T15:03:19.446Z"
   },
   {
    "duration": 0,
    "start_time": "2022-09-30T15:03:19.446Z"
   },
   {
    "duration": 0,
    "start_time": "2022-09-30T15:03:19.447Z"
   },
   {
    "duration": 67,
    "start_time": "2022-09-30T15:03:19.453Z"
   },
   {
    "duration": 5,
    "start_time": "2022-09-30T15:03:19.523Z"
   },
   {
    "duration": 32,
    "start_time": "2022-09-30T15:03:19.530Z"
   },
   {
    "duration": 956,
    "start_time": "2022-09-30T15:03:19.565Z"
   },
   {
    "duration": 0,
    "start_time": "2022-09-30T15:03:20.523Z"
   },
   {
    "duration": 1,
    "start_time": "2022-09-30T15:03:20.524Z"
   },
   {
    "duration": 0,
    "start_time": "2022-09-30T15:03:20.526Z"
   },
   {
    "duration": 0,
    "start_time": "2022-09-30T15:03:20.527Z"
   },
   {
    "duration": 0,
    "start_time": "2022-09-30T15:03:20.529Z"
   },
   {
    "duration": 0,
    "start_time": "2022-09-30T15:03:20.530Z"
   },
   {
    "duration": 0,
    "start_time": "2022-09-30T15:03:20.532Z"
   },
   {
    "duration": 0,
    "start_time": "2022-09-30T15:03:20.534Z"
   },
   {
    "duration": 0,
    "start_time": "2022-09-30T15:03:20.535Z"
   },
   {
    "duration": 0,
    "start_time": "2022-09-30T15:03:20.537Z"
   },
   {
    "duration": 0,
    "start_time": "2022-09-30T15:03:20.538Z"
   },
   {
    "duration": 0,
    "start_time": "2022-09-30T15:03:20.540Z"
   },
   {
    "duration": 0,
    "start_time": "2022-09-30T15:03:20.541Z"
   },
   {
    "duration": 0,
    "start_time": "2022-09-30T15:03:20.542Z"
   },
   {
    "duration": 0,
    "start_time": "2022-09-30T15:03:20.544Z"
   }
  ],
  "kernelspec": {
   "display_name": "Python 3 (ipykernel)",
   "language": "python",
   "name": "python3"
  },
  "language_info": {
   "codemirror_mode": {
    "name": "ipython",
    "version": 3
   },
   "file_extension": ".py",
   "mimetype": "text/x-python",
   "name": "python",
   "nbconvert_exporter": "python",
   "pygments_lexer": "ipython3",
   "version": "3.9.5"
  },
  "toc": {
   "base_numbering": 1,
   "nav_menu": {},
   "number_sections": true,
   "sideBar": true,
   "skip_h1_title": true,
   "title_cell": "Table of Contents",
   "title_sidebar": "Contents",
   "toc_cell": false,
   "toc_position": {},
   "toc_section_display": true,
   "toc_window_display": false
  }
 },
 "nbformat": 4,
 "nbformat_minor": 2
}
