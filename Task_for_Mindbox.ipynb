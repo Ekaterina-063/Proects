{
  "nbformat": 4,
  "nbformat_minor": 0,
  "metadata": {
    "colab": {
      "provenance": [],
      "collapsed_sections": []
    },
    "kernelspec": {
      "name": "python3",
      "display_name": "Python 3"
    },
    "language_info": {
      "name": "python"
    }
  },
  "cells": [
    {
      "cell_type": "markdown",
      "source": [],
      "metadata": {
        "id": "p6LdCwo4OJwm"
      }
    },
    {
      "cell_type": "code",
      "execution_count": 2,
      "metadata": {
        "id": "DSa0e5zl5N_R"
      },
      "outputs": [],
      "source": [
        "from collections import Counter"
      ]
    },
    {
      "cell_type": "code",
      "source": [
        "def count_users_in_groups(n_customers): # Функция, которая подсчитывает число покупателей, попадающих в каждую группу, если нумерация ID сквозная и начинается с 0.\n",
        "    list_of_client_id=list(range(0,int(n_customers)+1))\n",
        "    #print(list_of_client_id) #при необходимости можно вывести список клиентских id\n",
        "    groups_of_tests=[sum(map(int, str(el))) for el in list_of_client_id]\n",
        "    #print(groups_of_tests) #при необходимости можно вывести список групп\n",
        "    print(Counter(map(lambda x: x,  groups_of_tests)))"
      ],
      "metadata": {
        "id": "BmSJJiISSAeS"
      },
      "execution_count": 3,
      "outputs": []
    },
    {
      "cell_type": "code",
      "source": [
        "count_users_in_groups(123456) # Проверим работоспособность функции"
      ],
      "metadata": {
        "colab": {
          "base_uri": "https://localhost:8080/"
        },
        "id": "yXj9ZbOMSTOX",
        "outputId": "1118a62b-f1d1-4a35-f48a-16e4eb83e699"
      },
      "execution_count": 4,
      "outputs": [
        {
          "output_type": "stream",
          "name": "stdout",
          "text": [
            "Counter({22: 7408, 21: 7381, 23: 7283, 20: 7197, 24: 7014, 19: 6863, 25: 6617, 18: 6396, 26: 6110, 17: 5825, 27: 5517, 16: 5186, 28: 4868, 15: 4511, 29: 4199, 14: 3827, 30: 3541, 13: 3161, 31: 2918, 12: 2536, 32: 2346, 11: 1971, 33: 1836, 10: 1481, 34: 1395, 9: 1074, 35: 1026, 8: 751, 36: 729, 7: 504, 37: 500, 38: 331, 6: 321, 39: 210, 5: 191, 40: 126, 4: 104, 41: 70, 3: 50, 42: 35, 2: 20, 43: 15, 1: 6, 44: 5, 0: 1, 45: 1})\n"
          ]
        }
      ]
    },
    {
      "cell_type": "code",
      "source": [
        "def count_users_in_groups_new(n_first_id,n_customers): # Функция, которая подсчитывает число покупателей, попадающих в каждую группу, если ID начинается с произвольного числа.\n",
        "    list_of_client_id=list(range(int(n_first_id),int(n_customers)+1))\n",
        "    #print(list_of_client_id) #при необходимости можно вывести список клиентских id\n",
        "    groups_of_tests=[sum(map(int, str(el))) for el in list_of_client_id]\n",
        "    #print(groups_of_tests) #при необходимости можно вывести список групп\n",
        "    print(Counter(map(lambda x: x,  groups_of_tests)))"
      ],
      "metadata": {
        "id": "AW5SYPTFZt9H"
      },
      "execution_count": 5,
      "outputs": []
    },
    {
      "cell_type": "code",
      "source": [
        "count_users_in_groups_new(123,123456) # Проверим работоспособность функции"
      ],
      "metadata": {
        "colab": {
          "base_uri": "https://localhost:8080/"
        },
        "id": "KRVRhV3GaBVn",
        "outputId": "a093625b-0b13-45e8-e524-a579054c0198"
      },
      "execution_count": 6,
      "outputs": [
        {
          "output_type": "stream",
          "name": "stdout",
          "text": [
            "Counter({22: 7408, 21: 7381, 23: 7283, 20: 7197, 24: 7014, 19: 6863, 25: 6617, 18: 6395, 26: 6110, 17: 5823, 27: 5517, 16: 5183, 28: 4868, 15: 4507, 29: 4199, 14: 3822, 30: 3541, 13: 3155, 31: 2918, 12: 2529, 32: 2346, 11: 1962, 33: 1836, 10: 1470, 34: 1395, 9: 1062, 35: 1026, 8: 740, 36: 729, 37: 500, 7: 494, 38: 331, 6: 312, 39: 210, 5: 182, 40: 126, 4: 96, 41: 70, 3: 43, 42: 35, 2: 15, 43: 15, 44: 5, 1: 3, 45: 1})\n"
          ]
        }
      ]
    }
  ]
}